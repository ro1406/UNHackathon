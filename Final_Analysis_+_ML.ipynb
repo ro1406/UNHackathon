{
  "cells": [
    {
      "cell_type": "code",
      "execution_count": null,
      "id": "8f4cd935",
      "metadata": {
        "scrolled": false,
        "id": "8f4cd935",
        "outputId": "d1cb0101-c35d-45aa-aa66-957816a58656"
      },
      "outputs": [
        {
          "data": {
            "text/html": [
              "<div>\n",
              "<style scoped>\n",
              "    .dataframe tbody tr th:only-of-type {\n",
              "        vertical-align: middle;\n",
              "    }\n",
              "\n",
              "    .dataframe tbody tr th {\n",
              "        vertical-align: top;\n",
              "    }\n",
              "\n",
              "    .dataframe thead th {\n",
              "        text-align: right;\n",
              "    }\n",
              "</style>\n",
              "<table border=\"1\" class=\"dataframe\">\n",
              "  <thead>\n",
              "    <tr style=\"text-align: right;\">\n",
              "      <th></th>\n",
              "      <th>COUNTRY</th>\n",
              "      <th>Country</th>\n",
              "      <th>SEX</th>\n",
              "      <th>Series</th>\n",
              "      <th>Time</th>\n",
              "      <th>Value</th>\n",
              "    </tr>\n",
              "  </thead>\n",
              "  <tbody>\n",
              "    <tr>\n",
              "      <th>0</th>\n",
              "      <td>AUS</td>\n",
              "      <td>Australia</td>\n",
              "      <td>MW</td>\n",
              "      <td>Employment/population ratio</td>\n",
              "      <td>2010</td>\n",
              "      <td>46.623205</td>\n",
              "    </tr>\n",
              "    <tr>\n",
              "      <th>1</th>\n",
              "      <td>AUS</td>\n",
              "      <td>Australia</td>\n",
              "      <td>MW</td>\n",
              "      <td>Employment/population ratio</td>\n",
              "      <td>2011</td>\n",
              "      <td>46.416793</td>\n",
              "    </tr>\n",
              "    <tr>\n",
              "      <th>2</th>\n",
              "      <td>AUS</td>\n",
              "      <td>Australia</td>\n",
              "      <td>MW</td>\n",
              "      <td>Employment/population ratio</td>\n",
              "      <td>2012</td>\n",
              "      <td>45.545769</td>\n",
              "    </tr>\n",
              "    <tr>\n",
              "      <th>3</th>\n",
              "      <td>AUS</td>\n",
              "      <td>Australia</td>\n",
              "      <td>MW</td>\n",
              "      <td>Employment/population ratio</td>\n",
              "      <td>2013</td>\n",
              "      <td>44.915151</td>\n",
              "    </tr>\n",
              "    <tr>\n",
              "      <th>4</th>\n",
              "      <td>AUS</td>\n",
              "      <td>Australia</td>\n",
              "      <td>MW</td>\n",
              "      <td>Employment/population ratio</td>\n",
              "      <td>2014</td>\n",
              "      <td>43.760757</td>\n",
              "    </tr>\n",
              "    <tr>\n",
              "      <th>...</th>\n",
              "      <td>...</td>\n",
              "      <td>...</td>\n",
              "      <td>...</td>\n",
              "      <td>...</td>\n",
              "      <td>...</td>\n",
              "      <td>...</td>\n",
              "    </tr>\n",
              "    <tr>\n",
              "      <th>424</th>\n",
              "      <td>COL</td>\n",
              "      <td>Colombia</td>\n",
              "      <td>MW</td>\n",
              "      <td>Employment/population ratio</td>\n",
              "      <td>2016</td>\n",
              "      <td>26.836141</td>\n",
              "    </tr>\n",
              "    <tr>\n",
              "      <th>425</th>\n",
              "      <td>COL</td>\n",
              "      <td>Colombia</td>\n",
              "      <td>MW</td>\n",
              "      <td>Employment/population ratio</td>\n",
              "      <td>2017</td>\n",
              "      <td>25.696627</td>\n",
              "    </tr>\n",
              "    <tr>\n",
              "      <th>426</th>\n",
              "      <td>COL</td>\n",
              "      <td>Colombia</td>\n",
              "      <td>MW</td>\n",
              "      <td>Employment/population ratio</td>\n",
              "      <td>2018</td>\n",
              "      <td>24.511748</td>\n",
              "    </tr>\n",
              "    <tr>\n",
              "      <th>427</th>\n",
              "      <td>COL</td>\n",
              "      <td>Colombia</td>\n",
              "      <td>MW</td>\n",
              "      <td>Employment/population ratio</td>\n",
              "      <td>2019</td>\n",
              "      <td>22.571870</td>\n",
              "    </tr>\n",
              "    <tr>\n",
              "      <th>428</th>\n",
              "      <td>COL</td>\n",
              "      <td>Colombia</td>\n",
              "      <td>MW</td>\n",
              "      <td>Employment/population ratio</td>\n",
              "      <td>2020</td>\n",
              "      <td>18.372683</td>\n",
              "    </tr>\n",
              "  </tbody>\n",
              "</table>\n",
              "<p>429 rows × 6 columns</p>\n",
              "</div>"
            ],
            "text/plain": [
              "    COUNTRY    Country SEX                       Series  Time      Value\n",
              "0       AUS  Australia  MW  Employment/population ratio  2010  46.623205\n",
              "1       AUS  Australia  MW  Employment/population ratio  2011  46.416793\n",
              "2       AUS  Australia  MW  Employment/population ratio  2012  45.545769\n",
              "3       AUS  Australia  MW  Employment/population ratio  2013  44.915151\n",
              "4       AUS  Australia  MW  Employment/population ratio  2014  43.760757\n",
              "..      ...        ...  ..                          ...   ...        ...\n",
              "424     COL   Colombia  MW  Employment/population ratio  2016  26.836141\n",
              "425     COL   Colombia  MW  Employment/population ratio  2017  25.696627\n",
              "426     COL   Colombia  MW  Employment/population ratio  2018  24.511748\n",
              "427     COL   Colombia  MW  Employment/population ratio  2019  22.571870\n",
              "428     COL   Colombia  MW  Employment/population ratio  2020  18.372683\n",
              "\n",
              "[429 rows x 6 columns]"
            ]
          },
          "execution_count": 64,
          "metadata": {},
          "output_type": "execute_result"
        }
      ],
      "source": [
        "data=pd.read_excel(\"Emp-Pop Ratio 15-19 Year Old.xlsx\")\n",
        "data"
      ]
    },
    {
      "cell_type": "code",
      "execution_count": null,
      "id": "b53bd013",
      "metadata": {
        "id": "b53bd013",
        "outputId": "3e077e36-dd6c-44d7-dcbf-85ad59d6a70e"
      },
      "outputs": [
        {
          "name": "stdout",
          "output_type": "stream",
          "text": [
            "COUNTRY                            FIN\n",
            "Country                        Finland\n",
            "SEX                                 MW\n",
            "Series     Employment/population ratio\n",
            "Time                              2019\n",
            "Value                         28.73289\n",
            "Name: 75, dtype: object\n",
            "COUNTRY                            FIN\n",
            "Country                        Finland\n",
            "SEX                                 MW\n",
            "Series     Employment/population ratio\n",
            "Time                              2020\n",
            "Value                        26.831238\n",
            "Name: 76, dtype: object\n"
          ]
        }
      ],
      "source": [
        "print(data.iloc[75])\n",
        "print(data.iloc[76])"
      ]
    },
    {
      "cell_type": "code",
      "execution_count": null,
      "id": "96b00c10",
      "metadata": {
        "id": "96b00c10",
        "outputId": "13cce979-85bc-4d79-e09a-8a6655696ea4"
      },
      "outputs": [
        {
          "data": {
            "text/plain": [
              "{'Austria'}"
            ]
          },
          "execution_count": 67,
          "metadata": {},
          "output_type": "execute_result"
        }
      ],
      "source": [
        "s=set()\n",
        "for i in range(len(data)-1):\n",
        "    ctry=data.iloc[i]['Country']\n",
        "    if data.iloc[i]['Time']==2019 and data.iloc[i]['SEX']==\"MW\":\n",
        "        if data.iloc[i]['Value']<data.iloc[i+1]['Value']:\n",
        "            s.add(ctry)\n",
        "s"
      ]
    },
    {
      "cell_type": "markdown",
      "id": "4fca974b",
      "metadata": {
        "id": "4fca974b"
      },
      "source": [
        "Every country (except one) actually saw a decrease in child employment rates! But how come?\n",
        "\n",
        "Our guess: Their parents' employment rates also decreased, not just child employement.. Lets test this out!"
      ]
    },
    {
      "cell_type": "code",
      "execution_count": null,
      "id": "f2877b05",
      "metadata": {
        "id": "f2877b05",
        "outputId": "b60e6261-5cd1-4541-8922-01a73b39df7c"
      },
      "outputs": [
        {
          "data": {
            "text/html": [
              "<div>\n",
              "<style scoped>\n",
              "    .dataframe tbody tr th:only-of-type {\n",
              "        vertical-align: middle;\n",
              "    }\n",
              "\n",
              "    .dataframe tbody tr th {\n",
              "        vertical-align: top;\n",
              "    }\n",
              "\n",
              "    .dataframe thead th {\n",
              "        text-align: right;\n",
              "    }\n",
              "</style>\n",
              "<table border=\"1\" class=\"dataframe\">\n",
              "  <thead>\n",
              "    <tr style=\"text-align: right;\">\n",
              "      <th></th>\n",
              "      <th>COUNTRY</th>\n",
              "      <th>Country</th>\n",
              "      <th>SEX</th>\n",
              "      <th>Time</th>\n",
              "      <th>Value</th>\n",
              "    </tr>\n",
              "  </thead>\n",
              "  <tbody>\n",
              "    <tr>\n",
              "      <th>0</th>\n",
              "      <td>AUS</td>\n",
              "      <td>Australia</td>\n",
              "      <td>MW</td>\n",
              "      <td>2010</td>\n",
              "      <td>80.437599</td>\n",
              "    </tr>\n",
              "    <tr>\n",
              "      <th>1</th>\n",
              "      <td>AUS</td>\n",
              "      <td>Australia</td>\n",
              "      <td>MW</td>\n",
              "      <td>2011</td>\n",
              "      <td>80.479404</td>\n",
              "    </tr>\n",
              "    <tr>\n",
              "      <th>2</th>\n",
              "      <td>AUS</td>\n",
              "      <td>Australia</td>\n",
              "      <td>MW</td>\n",
              "      <td>2012</td>\n",
              "      <td>80.684897</td>\n",
              "    </tr>\n",
              "    <tr>\n",
              "      <th>3</th>\n",
              "      <td>AUS</td>\n",
              "      <td>Australia</td>\n",
              "      <td>MW</td>\n",
              "      <td>2013</td>\n",
              "      <td>80.394863</td>\n",
              "    </tr>\n",
              "    <tr>\n",
              "      <th>4</th>\n",
              "      <td>AUS</td>\n",
              "      <td>Australia</td>\n",
              "      <td>MW</td>\n",
              "      <td>2014</td>\n",
              "      <td>80.005800</td>\n",
              "    </tr>\n",
              "    <tr>\n",
              "      <th>...</th>\n",
              "      <td>...</td>\n",
              "      <td>...</td>\n",
              "      <td>...</td>\n",
              "      <td>...</td>\n",
              "      <td>...</td>\n",
              "    </tr>\n",
              "    <tr>\n",
              "      <th>435</th>\n",
              "      <td>CRI</td>\n",
              "      <td>Costa Rica</td>\n",
              "      <td>MW</td>\n",
              "      <td>2016</td>\n",
              "      <td>71.968366</td>\n",
              "    </tr>\n",
              "    <tr>\n",
              "      <th>436</th>\n",
              "      <td>CRI</td>\n",
              "      <td>Costa Rica</td>\n",
              "      <td>MW</td>\n",
              "      <td>2017</td>\n",
              "      <td>75.541145</td>\n",
              "    </tr>\n",
              "    <tr>\n",
              "      <th>437</th>\n",
              "      <td>CRI</td>\n",
              "      <td>Costa Rica</td>\n",
              "      <td>MW</td>\n",
              "      <td>2018</td>\n",
              "      <td>75.264820</td>\n",
              "    </tr>\n",
              "    <tr>\n",
              "      <th>438</th>\n",
              "      <td>CRI</td>\n",
              "      <td>Costa Rica</td>\n",
              "      <td>MW</td>\n",
              "      <td>2019</td>\n",
              "      <td>76.556690</td>\n",
              "    </tr>\n",
              "    <tr>\n",
              "      <th>439</th>\n",
              "      <td>CRI</td>\n",
              "      <td>Costa Rica</td>\n",
              "      <td>MW</td>\n",
              "      <td>2020</td>\n",
              "      <td>70.136035</td>\n",
              "    </tr>\n",
              "  </tbody>\n",
              "</table>\n",
              "<p>440 rows × 5 columns</p>\n",
              "</div>"
            ],
            "text/plain": [
              "    COUNTRY     Country SEX  Time      Value\n",
              "0       AUS   Australia  MW  2010  80.437599\n",
              "1       AUS   Australia  MW  2011  80.479404\n",
              "2       AUS   Australia  MW  2012  80.684897\n",
              "3       AUS   Australia  MW  2013  80.394863\n",
              "4       AUS   Australia  MW  2014  80.005800\n",
              "..      ...         ...  ..   ...        ...\n",
              "435     CRI  Costa Rica  MW  2016  71.968366\n",
              "436     CRI  Costa Rica  MW  2017  75.541145\n",
              "437     CRI  Costa Rica  MW  2018  75.264820\n",
              "438     CRI  Costa Rica  MW  2019  76.556690\n",
              "439     CRI  Costa Rica  MW  2020  70.136035\n",
              "\n",
              "[440 rows x 5 columns]"
            ]
          },
          "execution_count": 61,
          "metadata": {},
          "output_type": "execute_result"
        }
      ],
      "source": [
        "datap=pd.read_excel(\"Emp-Pop Ratio 40-49 Year Old.xlsx\")\n",
        "datap"
      ]
    },
    {
      "cell_type": "code",
      "execution_count": null,
      "id": "97413f27",
      "metadata": {
        "id": "97413f27",
        "outputId": "9c2aaf91-7119-4fb2-ec4b-361dd5c9c4d9"
      },
      "outputs": [
        {
          "data": {
            "text/plain": [
              "{'Luxembourg', 'Slovenia'}"
            ]
          },
          "execution_count": 62,
          "metadata": {},
          "output_type": "execute_result"
        }
      ],
      "source": [
        "s2=set()\n",
        "for i in range(len(datap)-1):\n",
        "    ctry=datap.iloc[i]['Country']\n",
        "    if datap.iloc[i]['Time']==2019 and datap.iloc[i]['SEX']==\"MW\":\n",
        "        if datap.iloc[i]['Value']<datap.iloc[i+1]['Value']:\n",
        "            s2.add(ctry)\n",
        "s2"
      ]
    },
    {
      "cell_type": "code",
      "execution_count": null,
      "id": "61671710",
      "metadata": {
        "id": "61671710",
        "outputId": "88ac5f06-c211-409d-fe43-ff94c3779977"
      },
      "outputs": [
        {
          "data": {
            "text/plain": [
              "array(['Australia', 'Austria', 'Belgium', 'Canada', 'Czech Republic',\n",
              "       'Denmark', 'Finland', 'France', 'Germany', 'Greece', 'Hungary',\n",
              "       'Iceland', 'Ireland', 'Italy', 'Japan', 'Korea', 'Luxembourg',\n",
              "       'Mexico', 'Netherlands', 'New Zealand', 'Norway', 'Poland',\n",
              "       'Portugal', 'Slovak Republic', 'Spain', 'Sweden', 'Switzerland',\n",
              "       'Turkey', 'United Kingdom', 'United States', 'OECD countries',\n",
              "       'Israel', 'Chile', 'Slovenia', 'Estonia', 'Lithuania', 'Latvia',\n",
              "       'Colombia', 'Costa Rica'], dtype=object)"
            ]
          },
          "execution_count": 63,
          "metadata": {},
          "output_type": "execute_result"
        }
      ],
      "source": [
        "datap['Country'].unique()"
      ]
    },
    {
      "cell_type": "markdown",
      "id": "cf050366",
      "metadata": {
        "id": "cf050366"
      },
      "source": [
        "Only 2 out of the 39 countries in the dataset actually had an increase in employement rates.\n",
        "\n",
        "This supports our hypothesis of the employment rate of the parents of each country decreasing, not only the child employment rates"
      ]
    },
    {
      "cell_type": "markdown",
      "id": "b9b5ac03",
      "metadata": {
        "id": "b9b5ac03"
      },
      "source": [
        "Now, we shall check which countries have a larger drop in child employment rates than their parent employment rates"
      ]
    },
    {
      "cell_type": "code",
      "execution_count": null,
      "id": "e86230df",
      "metadata": {
        "id": "e86230df",
        "outputId": "27f4c477-35f0-4d21-dc00-2676c69f9348"
      },
      "outputs": [
        {
          "data": {
            "text/plain": [
              "{'Australia': 3.132184371270405,\n",
              " 'Austria': -0.45975206690240356,\n",
              " 'Belgium': 1.3881680696875094,\n",
              " 'Canada': 6.6668497365088015,\n",
              " 'Czech Republic': 1.0559892441852607,\n",
              " 'Denmark': 1.9327259147057987,\n",
              " 'Finland': 1.9016516686837974,\n",
              " 'France': 0.518961758304,\n",
              " 'Germany': 0.49944846315950286,\n",
              " 'Greece': 0.008007008648079683,\n",
              " 'Hungary': 1.41177197862367,\n",
              " 'Iceland': 6.318247811815496,\n",
              " 'Ireland': 2.2114871468100006,\n",
              " 'Italy': 0.5052520430017098,\n",
              " 'Japan': 1.8782572441108982,\n",
              " 'Korea': 0.9693570408033105,\n",
              " 'Luxembourg': 2.27234312027565,\n",
              " 'Mexico': 2.3196091951046007,\n",
              " 'Netherlands': 2.6878616863464018,\n",
              " 'New Zealand': 1.0228254824760015,\n",
              " 'Norway': 0.9943082706348036,\n",
              " 'Poland': 0.5958899358645802,\n",
              " 'Portugal': 2.31719787762166,\n",
              " 'Slovak Republic': 0.41493049365833024,\n",
              " 'Spain': 2.4830274176765608,\n",
              " 'Sweden': 4.548796271529401,\n",
              " 'Switzerland': 1.7400121706695941,\n",
              " 'Turkey': 4.155481622276401,\n",
              " 'United Kingdom': 3.5801941386974008,\n",
              " 'United States': 2.519669348078903,\n",
              " 'OECD countries': 2.371468500140299,\n",
              " 'Israel': 4.146352214218599,\n",
              " 'Chile': 2.062047428734161,\n",
              " 'Slovenia': 3.334050728572721,\n",
              " 'Estonia': 3.5374006247480505,\n",
              " 'Lithuania': 1.9433577913194302,\n",
              " 'Latvia': 3.22062136167445,\n",
              " 'Costa Rica': 2.3219794033335397,\n",
              " 'Colombia': 4.1991867071869}"
            ]
          },
          "execution_count": 70,
          "metadata": {},
          "output_type": "execute_result"
        }
      ],
      "source": [
        "childdic={}\n",
        "for i in range(len(data)-1):\n",
        "    ctry=data.iloc[i]['Country']\n",
        "    if data.iloc[i]['Time']==2019 and data.iloc[i]['SEX']==\"MW\":\n",
        "        childdic[ctry]=data.iloc[i]['Value'] - data.iloc[i+1]['Value']\n",
        "childdic"
      ]
    },
    {
      "cell_type": "code",
      "execution_count": null,
      "id": "a3bd57bc",
      "metadata": {
        "id": "a3bd57bc",
        "outputId": "fa757c95-d759-4f70-8470-c24d8bc36b0c"
      },
      "outputs": [
        {
          "data": {
            "text/plain": [
              "{'Australia': 1.4490676267937914,\n",
              " 'Austria': 0.34962460989399347,\n",
              " 'Belgium': 0.4170801296998974,\n",
              " 'Canada': 3.397353901910094,\n",
              " 'Czech Republic': 0.1195873535958043,\n",
              " 'Denmark': 0.9021246870516109,\n",
              " 'Finland': 0.45530429147770235,\n",
              " 'France': 0.7096948323416115,\n",
              " 'Germany': 0.6449307437140988,\n",
              " 'Greece': 1.143077495573209,\n",
              " 'Hungary': 1.7722516293449928,\n",
              " 'Iceland': 2.4221276905831104,\n",
              " 'Ireland': 0.8118792443911929,\n",
              " 'Italy': 0.6452133223402967,\n",
              " 'Japan': 0.7629870129870113,\n",
              " 'Korea': 1.3134907828160038,\n",
              " 'Luxembourg': -1.7920188007947928,\n",
              " 'Mexico': 2.8377817560107985,\n",
              " 'Netherlands': 0.32958494904158897,\n",
              " 'New Zealand': 1.095410218802499,\n",
              " 'Norway': 2.073676007310695,\n",
              " 'Poland': 0.5851569186886962,\n",
              " 'Portugal': 1.5355741287822013,\n",
              " 'Slovak Republic': 1.6740922662390005,\n",
              " 'Spain': 1.8329590497245931,\n",
              " 'Sweden': 2.1784826074853925,\n",
              " 'Switzerland': 1.0183849607062,\n",
              " 'Turkey': 2.277058924062601,\n",
              " 'United Kingdom': 0.1944675376482934,\n",
              " 'United States': 4.0940362413115,\n",
              " 'OECD countries': 2.319028792606005,\n",
              " 'Israel': 0.881361341530706,\n",
              " 'Chile': 6.224932405374403,\n",
              " 'Slovenia': -0.2180955900044097,\n",
              " 'Estonia': 0.9011092340796978,\n",
              " 'Lithuania': 1.1265569223555048,\n",
              " 'Latvia': 0.29505426552529457,\n",
              " 'Colombia': 7.578694787724089,\n",
              " 'Costa Rica': 6.420655037053891}"
            ]
          },
          "execution_count": 71,
          "metadata": {},
          "output_type": "execute_result"
        }
      ],
      "source": [
        "parentdic={}\n",
        "for i in range(len(datap)-1):\n",
        "    ctry=datap.iloc[i]['Country']\n",
        "    if datap.iloc[i]['Time']==2019 and datap.iloc[i]['SEX']==\"MW\":\n",
        "        parentdic[ctry]=datap.iloc[i]['Value'] - datap.iloc[i+1]['Value']\n",
        "parentdic"
      ]
    },
    {
      "cell_type": "code",
      "execution_count": null,
      "id": "be2810e9",
      "metadata": {
        "id": "be2810e9",
        "outputId": "778e10d6-5d58-4cf3-9e61-11c85843a959"
      },
      "outputs": [
        {
          "data": {
            "text/plain": [
              "['Australia',\n",
              " 'Belgium',\n",
              " 'Canada',\n",
              " 'Czech Republic',\n",
              " 'Denmark',\n",
              " 'Finland',\n",
              " 'Iceland',\n",
              " 'Ireland',\n",
              " 'Japan',\n",
              " 'Luxembourg',\n",
              " 'Netherlands',\n",
              " 'Poland',\n",
              " 'Portugal',\n",
              " 'Spain',\n",
              " 'Sweden',\n",
              " 'Switzerland',\n",
              " 'Turkey',\n",
              " 'United Kingdom',\n",
              " 'OECD countries',\n",
              " 'Israel',\n",
              " 'Slovenia',\n",
              " 'Estonia',\n",
              " 'Lithuania',\n",
              " 'Latvia']"
            ]
          },
          "execution_count": 73,
          "metadata": {},
          "output_type": "execute_result"
        }
      ],
      "source": [
        "arr=[]\n",
        "for key in childdic:\n",
        "    if childdic[key]>parentdic[key]:\n",
        "        arr.append(key)\n",
        "arr"
      ]
    },
    {
      "cell_type": "code",
      "execution_count": null,
      "id": "7d176aae",
      "metadata": {
        "id": "7d176aae",
        "outputId": "cd4ba594-fa7c-468f-e3f0-50c1d3d97a62"
      },
      "outputs": [
        {
          "data": {
            "text/plain": [
              "24"
            ]
          },
          "execution_count": 74,
          "metadata": {},
          "output_type": "execute_result"
        }
      ],
      "source": [
        "len(arr)"
      ]
    },
    {
      "cell_type": "markdown",
      "id": "e3e59d14",
      "metadata": {
        "id": "e3e59d14"
      },
      "source": [
        "Hence, majority of the children were made redundant during COVID 19 pandemic in 2020. This temporarily reduced the amount of child labor due to them having low skills job that cannot be done remotely. However, with the vaccines now becoming popular, people are now being able to work in person jobs again, which would lead to child employment rates increasing this year."
      ]
    },
    {
      "cell_type": "markdown",
      "id": "3603560d",
      "metadata": {
        "id": "3603560d"
      },
      "source": [
        "Let us use Machine Learning to Predict the Child Employement Rate for 2021"
      ]
    },
    {
      "cell_type": "code",
      "execution_count": null,
      "id": "e7b4dc5f",
      "metadata": {
        "scrolled": true,
        "id": "e7b4dc5f",
        "outputId": "895670ea-30b5-4a15-e353-3b402f09a0b2"
      },
      "outputs": [
        {
          "data": {
            "text/html": [
              "<div>\n",
              "<style scoped>\n",
              "    .dataframe tbody tr th:only-of-type {\n",
              "        vertical-align: middle;\n",
              "    }\n",
              "\n",
              "    .dataframe tbody tr th {\n",
              "        vertical-align: top;\n",
              "    }\n",
              "\n",
              "    .dataframe thead th {\n",
              "        text-align: right;\n",
              "    }\n",
              "</style>\n",
              "<table border=\"1\" class=\"dataframe\">\n",
              "  <thead>\n",
              "    <tr style=\"text-align: right;\">\n",
              "      <th></th>\n",
              "      <th>Continent</th>\n",
              "      <th>Country</th>\n",
              "      <th>SEX</th>\n",
              "      <th>Series</th>\n",
              "      <th>Time</th>\n",
              "      <th>Value</th>\n",
              "    </tr>\n",
              "  </thead>\n",
              "  <tbody>\n",
              "    <tr>\n",
              "      <th>0</th>\n",
              "      <td>AUS</td>\n",
              "      <td>Australia</td>\n",
              "      <td>MW</td>\n",
              "      <td>Employment/population ratio</td>\n",
              "      <td>2010</td>\n",
              "      <td>46.623205</td>\n",
              "    </tr>\n",
              "    <tr>\n",
              "      <th>1</th>\n",
              "      <td>AUS</td>\n",
              "      <td>Australia</td>\n",
              "      <td>MW</td>\n",
              "      <td>Employment/population ratio</td>\n",
              "      <td>2011</td>\n",
              "      <td>46.416793</td>\n",
              "    </tr>\n",
              "    <tr>\n",
              "      <th>2</th>\n",
              "      <td>AUS</td>\n",
              "      <td>Australia</td>\n",
              "      <td>MW</td>\n",
              "      <td>Employment/population ratio</td>\n",
              "      <td>2012</td>\n",
              "      <td>45.545769</td>\n",
              "    </tr>\n",
              "    <tr>\n",
              "      <th>3</th>\n",
              "      <td>AUS</td>\n",
              "      <td>Australia</td>\n",
              "      <td>MW</td>\n",
              "      <td>Employment/population ratio</td>\n",
              "      <td>2013</td>\n",
              "      <td>44.915151</td>\n",
              "    </tr>\n",
              "    <tr>\n",
              "      <th>4</th>\n",
              "      <td>AUS</td>\n",
              "      <td>Australia</td>\n",
              "      <td>MW</td>\n",
              "      <td>Employment/population ratio</td>\n",
              "      <td>2014</td>\n",
              "      <td>43.760757</td>\n",
              "    </tr>\n",
              "    <tr>\n",
              "      <th>...</th>\n",
              "      <td>...</td>\n",
              "      <td>...</td>\n",
              "      <td>...</td>\n",
              "      <td>...</td>\n",
              "      <td>...</td>\n",
              "      <td>...</td>\n",
              "    </tr>\n",
              "    <tr>\n",
              "      <th>424</th>\n",
              "      <td>SA</td>\n",
              "      <td>Colombia</td>\n",
              "      <td>MW</td>\n",
              "      <td>Employment/population ratio</td>\n",
              "      <td>2016</td>\n",
              "      <td>26.836141</td>\n",
              "    </tr>\n",
              "    <tr>\n",
              "      <th>425</th>\n",
              "      <td>SA</td>\n",
              "      <td>Colombia</td>\n",
              "      <td>MW</td>\n",
              "      <td>Employment/population ratio</td>\n",
              "      <td>2017</td>\n",
              "      <td>25.696627</td>\n",
              "    </tr>\n",
              "    <tr>\n",
              "      <th>426</th>\n",
              "      <td>SA</td>\n",
              "      <td>Colombia</td>\n",
              "      <td>MW</td>\n",
              "      <td>Employment/population ratio</td>\n",
              "      <td>2018</td>\n",
              "      <td>24.511748</td>\n",
              "    </tr>\n",
              "    <tr>\n",
              "      <th>427</th>\n",
              "      <td>SA</td>\n",
              "      <td>Colombia</td>\n",
              "      <td>MW</td>\n",
              "      <td>Employment/population ratio</td>\n",
              "      <td>2019</td>\n",
              "      <td>22.571870</td>\n",
              "    </tr>\n",
              "    <tr>\n",
              "      <th>428</th>\n",
              "      <td>SA</td>\n",
              "      <td>Colombia</td>\n",
              "      <td>MW</td>\n",
              "      <td>Employment/population ratio</td>\n",
              "      <td>2020</td>\n",
              "      <td>18.372683</td>\n",
              "    </tr>\n",
              "  </tbody>\n",
              "</table>\n",
              "<p>429 rows × 6 columns</p>\n",
              "</div>"
            ],
            "text/plain": [
              "    Continent    Country SEX                       Series  Time      Value\n",
              "0         AUS  Australia  MW  Employment/population ratio  2010  46.623205\n",
              "1         AUS  Australia  MW  Employment/population ratio  2011  46.416793\n",
              "2         AUS  Australia  MW  Employment/population ratio  2012  45.545769\n",
              "3         AUS  Australia  MW  Employment/population ratio  2013  44.915151\n",
              "4         AUS  Australia  MW  Employment/population ratio  2014  43.760757\n",
              "..        ...        ...  ..                          ...   ...        ...\n",
              "424        SA   Colombia  MW  Employment/population ratio  2016  26.836141\n",
              "425        SA   Colombia  MW  Employment/population ratio  2017  25.696627\n",
              "426        SA   Colombia  MW  Employment/population ratio  2018  24.511748\n",
              "427        SA   Colombia  MW  Employment/population ratio  2019  22.571870\n",
              "428        SA   Colombia  MW  Employment/population ratio  2020  18.372683\n",
              "\n",
              "[429 rows x 6 columns]"
            ]
          },
          "execution_count": 85,
          "metadata": {},
          "output_type": "execute_result"
        }
      ],
      "source": [
        "mldata=pd.read_excel(\"Emp-Pop Ratio 15-19 Year Old.xlsx\")\n",
        "mldata"
      ]
    },
    {
      "cell_type": "code",
      "execution_count": null,
      "id": "1020cf8e",
      "metadata": {
        "id": "1020cf8e"
      },
      "outputs": [],
      "source": [
        "from sklearn.preprocessing import LabelEncoder"
      ]
    },
    {
      "cell_type": "code",
      "execution_count": null,
      "id": "54f81690",
      "metadata": {
        "id": "54f81690"
      },
      "outputs": [],
      "source": [
        "for col in ['Country','Time']:\n",
        "    le=LabelEncoder()\n",
        "    mldata[col]=le.fit_transform(mldata[col])"
      ]
    },
    {
      "cell_type": "code",
      "execution_count": null,
      "id": "799596f8",
      "metadata": {
        "id": "799596f8"
      },
      "outputs": [],
      "source": [
        "x=mldata[['Country','Time']]\n",
        "y=mldata['Value']"
      ]
    },
    {
      "cell_type": "code",
      "execution_count": null,
      "id": "b7c54881",
      "metadata": {
        "id": "b7c54881"
      },
      "outputs": [],
      "source": [
        "from sklearn.model_selection import train_test_split"
      ]
    },
    {
      "cell_type": "code",
      "execution_count": null,
      "id": "9eb84aa4",
      "metadata": {
        "id": "9eb84aa4"
      },
      "outputs": [],
      "source": [
        "xtrain,xtest,ytrain,ytest = train_test_split(x,y,test_size=0.2)"
      ]
    },
    {
      "cell_type": "code",
      "execution_count": null,
      "id": "77a27465",
      "metadata": {
        "id": "77a27465"
      },
      "outputs": [],
      "source": [
        "from sklearn.svm import SVR"
      ]
    },
    {
      "cell_type": "code",
      "execution_count": null,
      "id": "4f8bbc6b",
      "metadata": {
        "id": "4f8bbc6b",
        "outputId": "6cf36d65-9473-454d-ed16-eeba74ef01ff"
      },
      "outputs": [
        {
          "data": {
            "text/plain": [
              "array([32.92206295, 10.20560715, 24.30579609, 14.48498899,  9.78199882,\n",
              "        9.39118918,  8.07592518,  8.70017323, 18.98635503, 13.20398228,\n",
              "       15.42868503, 11.09616727,  7.73861422, 11.79758131,  9.3862845 ,\n",
              "       10.27733131, 20.19218788, 22.26488677,  9.99271697, 14.08989256,\n",
              "        8.82882781,  8.13234655,  9.86080747, 14.21878357,  9.55185986,\n",
              "       12.28531921,  9.68306083, 12.18754085, 12.35990496,  7.98864371,\n",
              "       25.02685088, 22.92279746,  8.5213295 ,  7.83977155,  9.38019925,\n",
              "        7.92692671,  7.6789141 ,  8.80227635, 22.71681699,  9.66147984,\n",
              "       17.99227748, 13.2069335 , 20.81584076, 26.52983148, 25.89426385,\n",
              "       17.86604091, 20.64530132,  9.99091841,  8.91639636,  8.78545145,\n",
              "       22.37760181, 11.65912835,  8.06935532,  8.56306268, 21.60859943,\n",
              "        8.59902964, 16.15326298, 27.7571798 , 31.68383714,  8.03590624,\n",
              "        8.33839725, 27.36597638, 13.03538507,  9.18733649,  9.62152981,\n",
              "       11.40855637, 19.64086603,  8.21840728,  9.22244223, 23.03597054,\n",
              "        9.10387947, 13.85692543, 10.07601535,  9.89109544,  9.92562192,\n",
              "        7.66700624, 10.41481732,  8.13749362, 25.10895214, 12.58549199,\n",
              "       33.97200573,  8.65373873, 31.99373718,  9.27846753, 10.19586159,\n",
              "       22.19212663])"
            ]
          },
          "execution_count": 127,
          "metadata": {},
          "output_type": "execute_result"
        }
      ],
      "source": [
        "model=SVR(kernel='rbf',C=5)\n",
        "model.fit(xtrain,ytrain)\n",
        "preds=model.predict(xtest)\n",
        "preds"
      ]
    },
    {
      "cell_type": "code",
      "execution_count": null,
      "id": "f90af2ac",
      "metadata": {
        "id": "f90af2ac"
      },
      "outputs": [],
      "source": [
        "from sklearn.metrics import mean_squared_error\n",
        "import numpy as np\n",
        "import math"
      ]
    },
    {
      "cell_type": "code",
      "execution_count": null,
      "id": "f579197d",
      "metadata": {
        "id": "f579197d",
        "outputId": "2f87ede5-de81-41a8-f94c-6fe54792d545"
      },
      "outputs": [
        {
          "name": "stdout",
          "output_type": "stream",
          "text": [
            "17.667122121742352\n"
          ]
        }
      ],
      "source": [
        "print(mean_squared_error(ytest,preds,squared=False))"
      ]
    },
    {
      "cell_type": "code",
      "execution_count": null,
      "id": "72b41a24",
      "metadata": {
        "id": "72b41a24"
      },
      "outputs": [],
      "source": [
        "import matplotlib.pyplot as plt"
      ]
    },
    {
      "cell_type": "code",
      "execution_count": null,
      "id": "674a90bd",
      "metadata": {
        "id": "674a90bd",
        "outputId": "91f1eaf8-4194-4f32-81c5-1b59d49aab17"
      },
      "outputs": [
        {
          "data": {
            "image/png": "[encoded data removed]",
            "text/plain": [
              "<Figure size 432x288 with 1 Axes>"
            ]
          },
          "metadata": {
            "needs_background": "light"
          },
          "output_type": "display_data"
        }
      ],
      "source": [
        "plt.plot(np.arange(86),ytest,'r')\n",
        "plt.plot(preds,'b')\n",
        "plt.legend(['Real','Predicted'])\n",
        "plt.xlabel(\"Instance Number\")\n",
        "plt.ylabel(\"Employment population ratio\")\n",
        "plt.show()"
      ]
    },
    {
      "cell_type": "code",
      "execution_count": null,
      "id": "12a6977f",
      "metadata": {
        "scrolled": true,
        "id": "12a6977f"
      },
      "outputs": [],
      "source": [
        "future=[[i,2021] for i in range(39)]"
      ]
    },
    {
      "cell_type": "code",
      "execution_count": null,
      "id": "9daf931f",
      "metadata": {
        "id": "9daf931f",
        "outputId": "9b0581d1-86d4-4e44-9108-7057a11093ea"
      },
      "outputs": [
        {
          "name": "stderr",
          "output_type": "stream",
          "text": [
            "C:\\Users\\rohan\\Anaconda3\\envs\\PTGpu\\lib\\site-packages\\sklearn\\base.py:441: UserWarning: X does not have valid feature names, but SVR was fitted with feature names\n",
            "  warnings.warn(\n"
          ]
        }
      ],
      "source": [
        "futurepreds=model.predict(np.array(future))"
      ]
    },
    {
      "cell_type": "code",
      "execution_count": null,
      "id": "91b56ce5",
      "metadata": {
        "id": "91b56ce5",
        "outputId": "bd96a1a3-d378-4dcd-b21f-468325f179d6"
      },
      "outputs": [
        {
          "data": {
            "image/png": "[encoded data removed]",
            "text/plain": [
              "<Figure size 432x288 with 1 Axes>"
            ]
          },
          "metadata": {
            "needs_background": "light"
          },
          "output_type": "display_data"
        }
      ],
      "source": [
        "a=[mldata.iloc[row]['Value'] for row in range(len(mldata)-10,len(mldata))]\n",
        "a.append(futurepreds[-1])\n",
        "plt.plot(np.arange(2011,2022),a)\n",
        "plt.title(\"Columbia Prediction for child employment rates for 2021\")\n",
        "plt.xlabel(\"Year\")\n",
        "plt.ylabel(\"Employment population ratio\")\n",
        "plt.show()"
      ]
    },
    {
      "cell_type": "markdown",
      "id": "106e0651",
      "metadata": {
        "id": "106e0651"
      },
      "source": [
        "Choose Columbia -> 3rd world country, likely to have more child employment as discussed in section about Child Labor Data analysis\n",
        "\n",
        "Sharpest drop in child employment population ratio from 2019 -> 2020 because of COVID. However, now with vaccines, AI predicts a steep increase in child employment population ratio for 2021"
      ]
    },
    {
      "cell_type": "code",
      "execution_count": null,
      "id": "52f8ca90",
      "metadata": {
        "id": "52f8ca90"
      },
      "outputs": [],
      "source": [
        ""
      ]
    }
  ],
  "metadata": {
    "kernelspec": {
      "display_name": "Python 3 (ipykernel)",
      "language": "python",
      "name": "python3"
    },
    "language_info": {
      "codemirror_mode": {
        "name": "ipython",
        "version": 3
      },
      "file_extension": ".py",
      "mimetype": "text/x-python",
      "name": "python",
      "nbconvert_exporter": "python",
      "pygments_lexer": "ipython3",
      "version": "3.9.6"
    },
    "colab": {
      "name": "Final Analysis + ML.ipynb",
      "provenance": [],
      "collapsed_sections": []
    }
  },
  "nbformat": 4,
  "nbformat_minor": 5
}