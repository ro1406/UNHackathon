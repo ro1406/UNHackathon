{
  "nbformat": 4,
  "nbformat_minor": 0,
  "metadata": {
    "colab": {
      "name": "Copy of UN_Hackathon.ipynb",
      "provenance": [],
      "collapsed_sections": []
    },
    "kernelspec": {
      "name": "python3",
      "display_name": "Python 3"
    },
    "language_info": {
      "name": "python"
    }
  },
  "cells": [
    {
      "cell_type": "code",
      "metadata": {
        "id": "O6vKYvjMTSFb"
      },
      "source": [
        "import matplotlib.pyplot as plt\n",
        "import numpy as np\n",
        "import pandas as pd\n",
        "import seaborn as sns"
      ],
      "execution_count": null,
      "outputs": []
    },
    {
      "cell_type": "code",
      "source": [
        "from google.colab import drive\n",
        "drive.mount('/content/drive')"
      ],
      "metadata": {
        "colab": {
          "base_uri": "https://localhost:8080/"
        },
        "id": "t4BIyNonFby4",
        "outputId": "409633bc-3a9b-491e-cf0a-f20375f31300"
      },
      "execution_count": null,
      "outputs": [
        {
          "output_type": "stream",
          "name": "stdout",
          "text": [
            "Mounted at /content/drive\n"
          ]
        }
      ]
    },
    {
      "cell_type": "code",
      "source": [
        "loc=r'/content/drive/MyDrive/UN Hackathon/'"
      ],
      "metadata": {
        "id": "TR5_MN8OFnMM"
      },
      "execution_count": null,
      "outputs": []
    },
    {
      "cell_type": "markdown",
      "source": [
        "# Child Labor Dataset Exploration:"
      ],
      "metadata": {
        "id": "iThtOYWKGVCN"
      }
    },
    {
      "cell_type": "code",
      "source": [
        "childLabor = pd.read_excel(loc+\"child-labor.xlsx\",header=5)\n",
        "childLabor"
      ],
      "metadata": {
        "colab": {
          "base_uri": "https://localhost:8080/",
          "height": 423
        },
        "id": "J4MsKAT2B-jH",
        "outputId": "3017b7b5-620a-4c98-dbeb-6b5e6d7b1d77"
      },
      "execution_count": null,
      "outputs": [
        {
          "output_type": "execute_result",
          "data": {
            "text/html": [
              "<div>\n",
              "<style scoped>\n",
              "    .dataframe tbody tr th:only-of-type {\n",
              "        vertical-align: middle;\n",
              "    }\n",
              "\n",
              "    .dataframe tbody tr th {\n",
              "        vertical-align: top;\n",
              "    }\n",
              "\n",
              "    .dataframe thead th {\n",
              "        text-align: right;\n",
              "    }\n",
              "</style>\n",
              "<table border=\"1\" class=\"dataframe\">\n",
              "  <thead>\n",
              "    <tr style=\"text-align: right;\">\n",
              "      <th></th>\n",
              "      <th>Reference area</th>\n",
              "      <th>Source</th>\n",
              "      <th>Sex</th>\n",
              "      <th>Time</th>\n",
              "      <th>5-17</th>\n",
              "      <th>15-17</th>\n",
              "      <th>5-11</th>\n",
              "      <th>12-14</th>\n",
              "      <th>Unnamed: 8</th>\n",
              "    </tr>\n",
              "  </thead>\n",
              "  <tbody>\n",
              "    <tr>\n",
              "      <th>0</th>\n",
              "      <td>World</td>\n",
              "      <td>ILO - ILO Modelled Estimates</td>\n",
              "      <td>Total</td>\n",
              "      <td>2020</td>\n",
              "      <td>7.9</td>\n",
              "      <td>4.5</td>\n",
              "      <td>9.7</td>\n",
              "      <td>6.8</td>\n",
              "      <td>NaN</td>\n",
              "    </tr>\n",
              "    <tr>\n",
              "      <th>1</th>\n",
              "      <td>World</td>\n",
              "      <td>ILO - ILO Modelled Estimates</td>\n",
              "      <td>Male</td>\n",
              "      <td>2020</td>\n",
              "      <td>9.3</td>\n",
              "      <td>6.3</td>\n",
              "      <td>10.9</td>\n",
              "      <td>8.2</td>\n",
              "      <td>NaN</td>\n",
              "    </tr>\n",
              "    <tr>\n",
              "      <th>2</th>\n",
              "      <td>World</td>\n",
              "      <td>ILO - ILO Modelled Estimates</td>\n",
              "      <td>Female</td>\n",
              "      <td>2020</td>\n",
              "      <td>6.4</td>\n",
              "      <td>2.5</td>\n",
              "      <td>8.4</td>\n",
              "      <td>5.2</td>\n",
              "      <td>NaN</td>\n",
              "    </tr>\n",
              "    <tr>\n",
              "      <th>3</th>\n",
              "      <td>Africa</td>\n",
              "      <td>ILO - ILO Modelled Estimates</td>\n",
              "      <td>Total</td>\n",
              "      <td>2020</td>\n",
              "      <td>18.0</td>\n",
              "      <td>6.8</td>\n",
              "      <td>22.1</td>\n",
              "      <td>17.0</td>\n",
              "      <td>NaN</td>\n",
              "    </tr>\n",
              "    <tr>\n",
              "      <th>4</th>\n",
              "      <td>Africa</td>\n",
              "      <td>ILO - ILO Modelled Estimates</td>\n",
              "      <td>Male</td>\n",
              "      <td>2020</td>\n",
              "      <td>20.3</td>\n",
              "      <td>8.7</td>\n",
              "      <td>24.3</td>\n",
              "      <td>20.1</td>\n",
              "      <td>NaN</td>\n",
              "    </tr>\n",
              "    <tr>\n",
              "      <th>...</th>\n",
              "      <td>...</td>\n",
              "      <td>...</td>\n",
              "      <td>...</td>\n",
              "      <td>...</td>\n",
              "      <td>...</td>\n",
              "      <td>...</td>\n",
              "      <td>...</td>\n",
              "      <td>...</td>\n",
              "      <td>...</td>\n",
              "    </tr>\n",
              "    <tr>\n",
              "      <th>382</th>\n",
              "      <td>Zambia</td>\n",
              "      <td>LFS - Labour Force Survey</td>\n",
              "      <td>Male</td>\n",
              "      <td>2018</td>\n",
              "      <td>3.4</td>\n",
              "      <td>0.7</td>\n",
              "      <td>5.3</td>\n",
              "      <td>1.0</td>\n",
              "      <td>Notes\\n\\n[8.7.1] Proportion of children engage...</td>\n",
              "    </tr>\n",
              "    <tr>\n",
              "      <th>383</th>\n",
              "      <td>Zambia</td>\n",
              "      <td>LFS - Labour Force Survey</td>\n",
              "      <td>Female</td>\n",
              "      <td>2018</td>\n",
              "      <td>2.6</td>\n",
              "      <td>0.9</td>\n",
              "      <td>3.8</td>\n",
              "      <td>0.9</td>\n",
              "      <td>Notes\\n\\n[8.7.1] Proportion of children engage...</td>\n",
              "    </tr>\n",
              "    <tr>\n",
              "      <th>384</th>\n",
              "      <td>Zimbabwe</td>\n",
              "      <td>HS - Multiple Indicator Cluster Survey</td>\n",
              "      <td>Total</td>\n",
              "      <td>2019</td>\n",
              "      <td>25.6</td>\n",
              "      <td>4.1</td>\n",
              "      <td>34.2</td>\n",
              "      <td>18.0</td>\n",
              "      <td>Notes\\n\\n[8.7.1] Proportion of children engage...</td>\n",
              "    </tr>\n",
              "    <tr>\n",
              "      <th>385</th>\n",
              "      <td>Zimbabwe</td>\n",
              "      <td>HS - Multiple Indicator Cluster Survey</td>\n",
              "      <td>Male</td>\n",
              "      <td>2019</td>\n",
              "      <td>31.8</td>\n",
              "      <td>5.4</td>\n",
              "      <td>41.8</td>\n",
              "      <td>25.6</td>\n",
              "      <td>Notes\\n\\n[8.7.1] Proportion of children engage...</td>\n",
              "    </tr>\n",
              "    <tr>\n",
              "      <th>386</th>\n",
              "      <td>Zimbabwe</td>\n",
              "      <td>HS - Multiple Indicator Cluster Survey</td>\n",
              "      <td>Female</td>\n",
              "      <td>2019</td>\n",
              "      <td>19.0</td>\n",
              "      <td>2.6</td>\n",
              "      <td>26.4</td>\n",
              "      <td>10.2</td>\n",
              "      <td>Notes\\n\\n[8.7.1] Proportion of children engage...</td>\n",
              "    </tr>\n",
              "  </tbody>\n",
              "</table>\n",
              "<p>387 rows × 9 columns</p>\n",
              "</div>"
            ],
            "text/plain": [
              "    Reference area  ...                                         Unnamed: 8\n",
              "0            World  ...                                                NaN\n",
              "1            World  ...                                                NaN\n",
              "2            World  ...                                                NaN\n",
              "3           Africa  ...                                                NaN\n",
              "4           Africa  ...                                                NaN\n",
              "..             ...  ...                                                ...\n",
              "382         Zambia  ...  Notes\\n\\n[8.7.1] Proportion of children engage...\n",
              "383         Zambia  ...  Notes\\n\\n[8.7.1] Proportion of children engage...\n",
              "384       Zimbabwe  ...  Notes\\n\\n[8.7.1] Proportion of children engage...\n",
              "385       Zimbabwe  ...  Notes\\n\\n[8.7.1] Proportion of children engage...\n",
              "386       Zimbabwe  ...  Notes\\n\\n[8.7.1] Proportion of children engage...\n",
              "\n",
              "[387 rows x 9 columns]"
            ]
          },
          "metadata": {},
          "execution_count": 19
        }
      ]
    },
    {
      "cell_type": "markdown",
      "source": [
        "Source, and last column not really useful, so take them out\n",
        "\n",
        "Last 4 columns indiciate Proportion of children engaged in economic activity and household chores (%) by age groups"
      ],
      "metadata": {
        "id": "afBAwRwrHWfN"
      }
    },
    {
      "cell_type": "code",
      "source": [
        "childLabor.drop(['Source',\"Unnamed: 8\"],axis=1,inplace=True)\n",
        "childLabor"
      ],
      "metadata": {
        "colab": {
          "base_uri": "https://localhost:8080/",
          "height": 423
        },
        "id": "qUwaovibHV1O",
        "outputId": "e470a2a3-efbd-4bbb-f441-51940e3edb37"
      },
      "execution_count": null,
      "outputs": [
        {
          "output_type": "execute_result",
          "data": {
            "text/html": [
              "<div>\n",
              "<style scoped>\n",
              "    .dataframe tbody tr th:only-of-type {\n",
              "        vertical-align: middle;\n",
              "    }\n",
              "\n",
              "    .dataframe tbody tr th {\n",
              "        vertical-align: top;\n",
              "    }\n",
              "\n",
              "    .dataframe thead th {\n",
              "        text-align: right;\n",
              "    }\n",
              "</style>\n",
              "<table border=\"1\" class=\"dataframe\">\n",
              "  <thead>\n",
              "    <tr style=\"text-align: right;\">\n",
              "      <th></th>\n",
              "      <th>Reference area</th>\n",
              "      <th>Sex</th>\n",
              "      <th>Time</th>\n",
              "      <th>5-17</th>\n",
              "      <th>15-17</th>\n",
              "      <th>5-11</th>\n",
              "      <th>12-14</th>\n",
              "    </tr>\n",
              "  </thead>\n",
              "  <tbody>\n",
              "    <tr>\n",
              "      <th>0</th>\n",
              "      <td>World</td>\n",
              "      <td>Total</td>\n",
              "      <td>2020</td>\n",
              "      <td>7.9</td>\n",
              "      <td>4.5</td>\n",
              "      <td>9.7</td>\n",
              "      <td>6.8</td>\n",
              "    </tr>\n",
              "    <tr>\n",
              "      <th>1</th>\n",
              "      <td>World</td>\n",
              "      <td>Male</td>\n",
              "      <td>2020</td>\n",
              "      <td>9.3</td>\n",
              "      <td>6.3</td>\n",
              "      <td>10.9</td>\n",
              "      <td>8.2</td>\n",
              "    </tr>\n",
              "    <tr>\n",
              "      <th>2</th>\n",
              "      <td>World</td>\n",
              "      <td>Female</td>\n",
              "      <td>2020</td>\n",
              "      <td>6.4</td>\n",
              "      <td>2.5</td>\n",
              "      <td>8.4</td>\n",
              "      <td>5.2</td>\n",
              "    </tr>\n",
              "    <tr>\n",
              "      <th>3</th>\n",
              "      <td>Africa</td>\n",
              "      <td>Total</td>\n",
              "      <td>2020</td>\n",
              "      <td>18.0</td>\n",
              "      <td>6.8</td>\n",
              "      <td>22.1</td>\n",
              "      <td>17.0</td>\n",
              "    </tr>\n",
              "    <tr>\n",
              "      <th>4</th>\n",
              "      <td>Africa</td>\n",
              "      <td>Male</td>\n",
              "      <td>2020</td>\n",
              "      <td>20.3</td>\n",
              "      <td>8.7</td>\n",
              "      <td>24.3</td>\n",
              "      <td>20.1</td>\n",
              "    </tr>\n",
              "    <tr>\n",
              "      <th>...</th>\n",
              "      <td>...</td>\n",
              "      <td>...</td>\n",
              "      <td>...</td>\n",
              "      <td>...</td>\n",
              "      <td>...</td>\n",
              "      <td>...</td>\n",
              "      <td>...</td>\n",
              "    </tr>\n",
              "    <tr>\n",
              "      <th>382</th>\n",
              "      <td>Zambia</td>\n",
              "      <td>Male</td>\n",
              "      <td>2018</td>\n",
              "      <td>3.4</td>\n",
              "      <td>0.7</td>\n",
              "      <td>5.3</td>\n",
              "      <td>1.0</td>\n",
              "    </tr>\n",
              "    <tr>\n",
              "      <th>383</th>\n",
              "      <td>Zambia</td>\n",
              "      <td>Female</td>\n",
              "      <td>2018</td>\n",
              "      <td>2.6</td>\n",
              "      <td>0.9</td>\n",
              "      <td>3.8</td>\n",
              "      <td>0.9</td>\n",
              "    </tr>\n",
              "    <tr>\n",
              "      <th>384</th>\n",
              "      <td>Zimbabwe</td>\n",
              "      <td>Total</td>\n",
              "      <td>2019</td>\n",
              "      <td>25.6</td>\n",
              "      <td>4.1</td>\n",
              "      <td>34.2</td>\n",
              "      <td>18.0</td>\n",
              "    </tr>\n",
              "    <tr>\n",
              "      <th>385</th>\n",
              "      <td>Zimbabwe</td>\n",
              "      <td>Male</td>\n",
              "      <td>2019</td>\n",
              "      <td>31.8</td>\n",
              "      <td>5.4</td>\n",
              "      <td>41.8</td>\n",
              "      <td>25.6</td>\n",
              "    </tr>\n",
              "    <tr>\n",
              "      <th>386</th>\n",
              "      <td>Zimbabwe</td>\n",
              "      <td>Female</td>\n",
              "      <td>2019</td>\n",
              "      <td>19.0</td>\n",
              "      <td>2.6</td>\n",
              "      <td>26.4</td>\n",
              "      <td>10.2</td>\n",
              "    </tr>\n",
              "  </tbody>\n",
              "</table>\n",
              "<p>387 rows × 7 columns</p>\n",
              "</div>"
            ],
            "text/plain": [
              "    Reference area     Sex  Time  5-17  15-17  5-11  12-14\n",
              "0            World   Total  2020   7.9    4.5   9.7    6.8\n",
              "1            World    Male  2020   9.3    6.3  10.9    8.2\n",
              "2            World  Female  2020   6.4    2.5   8.4    5.2\n",
              "3           Africa   Total  2020  18.0    6.8  22.1   17.0\n",
              "4           Africa    Male  2020  20.3    8.7  24.3   20.1\n",
              "..             ...     ...   ...   ...    ...   ...    ...\n",
              "382         Zambia    Male  2018   3.4    0.7   5.3    1.0\n",
              "383         Zambia  Female  2018   2.6    0.9   3.8    0.9\n",
              "384       Zimbabwe   Total  2019  25.6    4.1  34.2   18.0\n",
              "385       Zimbabwe    Male  2019  31.8    5.4  41.8   25.6\n",
              "386       Zimbabwe  Female  2019  19.0    2.6  26.4   10.2\n",
              "\n",
              "[387 rows x 7 columns]"
            ]
          },
          "metadata": {},
          "execution_count": 20
        }
      ]
    },
    {
      "cell_type": "code",
      "source": [
        "childLabor.describe() #numerical cols"
      ],
      "metadata": {
        "colab": {
          "base_uri": "https://localhost:8080/",
          "height": 300
        },
        "id": "w15N8mTUIK2X",
        "outputId": "2a8eef9e-5ae8-4080-8a42-5285870bcbfc"
      },
      "execution_count": null,
      "outputs": [
        {
          "output_type": "execute_result",
          "data": {
            "text/html": [
              "<div>\n",
              "<style scoped>\n",
              "    .dataframe tbody tr th:only-of-type {\n",
              "        vertical-align: middle;\n",
              "    }\n",
              "\n",
              "    .dataframe tbody tr th {\n",
              "        vertical-align: top;\n",
              "    }\n",
              "\n",
              "    .dataframe thead th {\n",
              "        text-align: right;\n",
              "    }\n",
              "</style>\n",
              "<table border=\"1\" class=\"dataframe\">\n",
              "  <thead>\n",
              "    <tr style=\"text-align: right;\">\n",
              "      <th></th>\n",
              "      <th>Time</th>\n",
              "      <th>5-17</th>\n",
              "      <th>15-17</th>\n",
              "      <th>5-11</th>\n",
              "      <th>12-14</th>\n",
              "    </tr>\n",
              "  </thead>\n",
              "  <tbody>\n",
              "    <tr>\n",
              "      <th>count</th>\n",
              "      <td>387.000000</td>\n",
              "      <td>318.000000</td>\n",
              "      <td>327.000000</td>\n",
              "      <td>341.000000</td>\n",
              "      <td>358.000000</td>\n",
              "    </tr>\n",
              "    <tr>\n",
              "      <th>mean</th>\n",
              "      <td>2016.705426</td>\n",
              "      <td>10.168868</td>\n",
              "      <td>5.388991</td>\n",
              "      <td>12.944868</td>\n",
              "      <td>9.380447</td>\n",
              "    </tr>\n",
              "    <tr>\n",
              "      <th>std</th>\n",
              "      <td>2.977645</td>\n",
              "      <td>9.208743</td>\n",
              "      <td>5.926565</td>\n",
              "      <td>11.925011</td>\n",
              "      <td>10.252756</td>\n",
              "    </tr>\n",
              "    <tr>\n",
              "      <th>min</th>\n",
              "      <td>2010.000000</td>\n",
              "      <td>0.100000</td>\n",
              "      <td>0.100000</td>\n",
              "      <td>0.000000</td>\n",
              "      <td>0.000000</td>\n",
              "    </tr>\n",
              "    <tr>\n",
              "      <th>25%</th>\n",
              "      <td>2015.000000</td>\n",
              "      <td>3.025000</td>\n",
              "      <td>1.500000</td>\n",
              "      <td>2.900000</td>\n",
              "      <td>2.500000</td>\n",
              "    </tr>\n",
              "    <tr>\n",
              "      <th>50%</th>\n",
              "      <td>2017.000000</td>\n",
              "      <td>7.550000</td>\n",
              "      <td>3.300000</td>\n",
              "      <td>8.500000</td>\n",
              "      <td>5.900000</td>\n",
              "    </tr>\n",
              "    <tr>\n",
              "      <th>75%</th>\n",
              "      <td>2019.000000</td>\n",
              "      <td>15.100000</td>\n",
              "      <td>6.800000</td>\n",
              "      <td>20.400000</td>\n",
              "      <td>13.275000</td>\n",
              "    </tr>\n",
              "    <tr>\n",
              "      <th>max</th>\n",
              "      <td>2020.000000</td>\n",
              "      <td>48.300000</td>\n",
              "      <td>36.100000</td>\n",
              "      <td>54.500000</td>\n",
              "      <td>68.200000</td>\n",
              "    </tr>\n",
              "  </tbody>\n",
              "</table>\n",
              "</div>"
            ],
            "text/plain": [
              "              Time        5-17       15-17        5-11       12-14\n",
              "count   387.000000  318.000000  327.000000  341.000000  358.000000\n",
              "mean   2016.705426   10.168868    5.388991   12.944868    9.380447\n",
              "std       2.977645    9.208743    5.926565   11.925011   10.252756\n",
              "min    2010.000000    0.100000    0.100000    0.000000    0.000000\n",
              "25%    2015.000000    3.025000    1.500000    2.900000    2.500000\n",
              "50%    2017.000000    7.550000    3.300000    8.500000    5.900000\n",
              "75%    2019.000000   15.100000    6.800000   20.400000   13.275000\n",
              "max    2020.000000   48.300000   36.100000   54.500000   68.200000"
            ]
          },
          "metadata": {},
          "execution_count": 21
        }
      ]
    },
    {
      "cell_type": "code",
      "source": [
        "childLabor[['Reference area','Sex']].describe() #Categorical Cols"
      ],
      "metadata": {
        "colab": {
          "base_uri": "https://localhost:8080/",
          "height": 174
        },
        "id": "6MNzWFbvIUUi",
        "outputId": "ce2949fc-990f-447e-a04e-fbf8c781f95f"
      },
      "execution_count": null,
      "outputs": [
        {
          "output_type": "execute_result",
          "data": {
            "text/html": [
              "<div>\n",
              "<style scoped>\n",
              "    .dataframe tbody tr th:only-of-type {\n",
              "        vertical-align: middle;\n",
              "    }\n",
              "\n",
              "    .dataframe tbody tr th {\n",
              "        vertical-align: top;\n",
              "    }\n",
              "\n",
              "    .dataframe thead th {\n",
              "        text-align: right;\n",
              "    }\n",
              "</style>\n",
              "<table border=\"1\" class=\"dataframe\">\n",
              "  <thead>\n",
              "    <tr style=\"text-align: right;\">\n",
              "      <th></th>\n",
              "      <th>Reference area</th>\n",
              "      <th>Sex</th>\n",
              "    </tr>\n",
              "  </thead>\n",
              "  <tbody>\n",
              "    <tr>\n",
              "      <th>count</th>\n",
              "      <td>387</td>\n",
              "      <td>387</td>\n",
              "    </tr>\n",
              "    <tr>\n",
              "      <th>unique</th>\n",
              "      <td>120</td>\n",
              "      <td>3</td>\n",
              "    </tr>\n",
              "    <tr>\n",
              "      <th>top</th>\n",
              "      <td>Panama</td>\n",
              "      <td>Total</td>\n",
              "    </tr>\n",
              "    <tr>\n",
              "      <th>freq</th>\n",
              "      <td>9</td>\n",
              "      <td>130</td>\n",
              "    </tr>\n",
              "  </tbody>\n",
              "</table>\n",
              "</div>"
            ],
            "text/plain": [
              "       Reference area    Sex\n",
              "count             387    387\n",
              "unique            120      3\n",
              "top            Panama  Total\n",
              "freq                9    130"
            ]
          },
          "metadata": {},
          "execution_count": 24
        }
      ]
    },
    {
      "cell_type": "code",
      "source": [
        "childLabor['Reference area'].unique()"
      ],
      "metadata": {
        "colab": {
          "base_uri": "https://localhost:8080/"
        },
        "id": "pXPGkVrxPgQf",
        "outputId": "358ce260-2fec-4873-e897-d72d10070a33"
      },
      "execution_count": null,
      "outputs": [
        {
          "output_type": "execute_result",
          "data": {
            "text/plain": [
              "array(['World', 'Africa', 'Northern Africa', 'Sub-Saharan Africa',\n",
              "       'Central Africa', 'Eastern Africa', 'Southern Africa',\n",
              "       'Western Africa', 'Americas', 'Latin America and the Caribbean',\n",
              "       'Caribbean', 'Central America', 'South America',\n",
              "       'Northern America', 'Arab States', 'Asia and the Pacific',\n",
              "       'Eastern Asia', 'South-Eastern Asia and the Pacific',\n",
              "       'South-Eastern Asia', 'Pacific Islands', 'Southern Asia',\n",
              "       'Europe and Central Asia', 'Northern, Southern and Western Europe',\n",
              "       'Northern Europe', 'Southern Europe', 'Western Europe',\n",
              "       'Eastern Europe', 'Central and Western Asia', 'Central Asia',\n",
              "       'Western Asia', 'Afghanistan', 'Albania', 'Algeria', 'Angola',\n",
              "       'Argentina', 'Armenia', 'Bangladesh', 'Barbados', 'Belarus',\n",
              "       'Belize', 'Benin', 'Bhutan', 'Bolivia', 'Brazil', 'Burkina Faso',\n",
              "       'Burundi', 'Cambodia', 'Cameroon', 'Central African Republic',\n",
              "       'Chad', 'Chile', 'Colombia', 'Comoros', 'Congo',\n",
              "       'Congo, Democratic Republic of the', 'Costa Rica', \"Côte d'Ivoire\",\n",
              "       'Dominican Republic', 'Ecuador', 'Egypt', 'El Salvador',\n",
              "       'Eswatini', 'Ethiopia', 'Gabon', 'Gambia', 'Georgia', 'Ghana',\n",
              "       'Guatemala', 'Guinea', 'Guinea-Bissau', 'Guyana', 'Haiti',\n",
              "       'Honduras', 'India', 'Indonesia', 'Iraq', 'Jamaica', 'Jordan',\n",
              "       'Kiribati', 'Kyrgyzstan', \"Lao People's Democratic Republic\",\n",
              "       'Lesotho', 'Liberia', 'Madagascar', 'Malawi', 'Mali', 'Mauritania',\n",
              "       'Mexico', 'Mongolia', 'Myanmar', 'Nepal', 'Niger', 'Nigeria',\n",
              "       'North Macedonia', 'Pakistan', 'Panama', 'Paraguay', 'Peru',\n",
              "       'Rwanda', 'Sao Tome and Principe', 'Senegal', 'Serbia',\n",
              "       'Sierra Leone', 'South Africa', 'Sri Lanka', 'Sudan', 'Suriname',\n",
              "       'Tanzania, United Republic of', 'Thailand', 'Timor-Leste', 'Togo',\n",
              "       'Tonga', 'Trinidad and Tobago', 'Uganda', 'Ukraine',\n",
              "       'United States', 'Venezuela, Bolivarian Republic of', 'Viet Nam',\n",
              "       'Zambia', 'Zimbabwe'], dtype=object)"
            ]
          },
          "metadata": {},
          "execution_count": 39
        }
      ]
    },
    {
      "cell_type": "code",
      "source": [
        "childLabor.info() #Datatypes + nullity"
      ],
      "metadata": {
        "colab": {
          "base_uri": "https://localhost:8080/"
        },
        "id": "fluevn0kITyd",
        "outputId": "c50938fc-7ce9-4cee-bf8c-6577a9bc689d"
      },
      "execution_count": null,
      "outputs": [
        {
          "output_type": "stream",
          "name": "stdout",
          "text": [
            "<class 'pandas.core.frame.DataFrame'>\n",
            "RangeIndex: 387 entries, 0 to 386\n",
            "Data columns (total 7 columns):\n",
            " #   Column          Non-Null Count  Dtype  \n",
            "---  ------          --------------  -----  \n",
            " 0   Reference area  387 non-null    object \n",
            " 1   Sex             387 non-null    object \n",
            " 2   Time            387 non-null    int64  \n",
            " 3   5-17            318 non-null    float64\n",
            " 4   15-17           327 non-null    float64\n",
            " 5   5-11            341 non-null    float64\n",
            " 6   12-14           358 non-null    float64\n",
            "dtypes: float64(4), int64(1), object(2)\n",
            "memory usage: 21.3+ KB\n"
          ]
        }
      ]
    },
    {
      "cell_type": "markdown",
      "source": [
        "Oh no we have quite a few null values in the data! Lets try to see just how many:"
      ],
      "metadata": {
        "id": "OXdjDuu7IlrA"
      }
    },
    {
      "cell_type": "code",
      "source": [
        "plt.figure(figsize=(10,8))\n",
        "sns.heatmap(childLabor.isna())"
      ],
      "metadata": {
        "colab": {
          "base_uri": "https://localhost:8080/",
          "height": 504
        },
        "id": "MHvmvS8vIUW5",
        "outputId": "d40df637-a693-4af5-871f-c9ced7b9fd8f"
      },
      "execution_count": null,
      "outputs": [
        {
          "output_type": "execute_result",
          "data": {
            "text/plain": [
              "<matplotlib.axes._subplots.AxesSubplot at 0x7f4aca1bae10>"
            ]
          },
          "metadata": {},
          "execution_count": 27
        },
        {
          "output_type": "display_data",
          "data": {
            "image/png": "[encoded data removed]",
            "text/plain": [
              "<Figure size 720x576 with 2 Axes>"
            ]
          },
          "metadata": {
            "needs_background": "light"
          }
        }
      ]
    },
    {
      "cell_type": "markdown",
      "source": [
        "Most of the nulls are in the columns of % of children who are engaged in economic activity and household chores (%) by age groups.\n",
        "\n",
        "We could fill each column with the average value for each country (could be done year wise, but i think country wise makes more sense due to demographic influence).\n",
        "However, i think dropping the null values is easier at this point"
      ],
      "metadata": {
        "id": "pyeenkqzIyt1"
      }
    },
    {
      "cell_type": "code",
      "source": [
        "childLabor.dropna(inplace=True)\n",
        "plt.figure(figsize=(10,8))\n",
        "sns.heatmap(childLabor.isna())"
      ],
      "metadata": {
        "colab": {
          "base_uri": "https://localhost:8080/",
          "height": 504
        },
        "id": "hQ2lD-98IUZu",
        "outputId": "c9e69899-9be6-4101-f3bc-eafb9a52742e"
      },
      "execution_count": null,
      "outputs": [
        {
          "output_type": "execute_result",
          "data": {
            "text/plain": [
              "<matplotlib.axes._subplots.AxesSubplot at 0x7f4ac046cb10>"
            ]
          },
          "metadata": {},
          "execution_count": 40
        },
        {
          "output_type": "display_data",
          "data": {
            "image/png": "[encoded data removed]",
            "text/plain": [
              "<Figure size 720x576 with 2 Axes>"
            ]
          },
          "metadata": {
            "needs_background": "light"
          }
        }
      ]
    },
    {
      "cell_type": "markdown",
      "source": [
        "## Cluster the last 4 columns:"
      ],
      "metadata": {
        "id": "DKKcUUJdQILB"
      }
    },
    {
      "cell_type": "code",
      "source": [
        "from sklearn.cluster import KMeans"
      ],
      "metadata": {
        "id": "xwL7nTexQHFl"
      },
      "execution_count": null,
      "outputs": []
    },
    {
      "cell_type": "code",
      "source": [
        "inertiaList=[]\n",
        "for k in range(2,20):\n",
        "    kmeans=KMeans(n_clusters=k)\n",
        "    kmeans.fit(childLabor[['5-17','15-17','5-11','12-14']])\n",
        "    inertiaList.append(kmeans.inertia_)"
      ],
      "metadata": {
        "id": "wYl5jyTkQWkp"
      },
      "execution_count": null,
      "outputs": []
    },
    {
      "cell_type": "code",
      "source": [
        "plt.figure(figsize=(12,10))\n",
        "plt.plot(range(2,20),inertiaList)\n",
        "plt.xlabel(\"K Value\")\n",
        "plt.ylabel(\"Inertia\")"
      ],
      "metadata": {
        "colab": {
          "base_uri": "https://localhost:8080/",
          "height": 623
        },
        "id": "4vCbHJ1kQWm3",
        "outputId": "8bd99b09-c3d8-46c7-8f68-5ef6f7648b29"
      },
      "execution_count": null,
      "outputs": [
        {
          "output_type": "execute_result",
          "data": {
            "text/plain": [
              "Text(0, 0.5, 'Inertia')"
            ]
          },
          "metadata": {},
          "execution_count": 47
        },
        {
          "output_type": "display_data",
          "data": {
            "image/png": "[encoded data removed]",
            "text/plain": [
              "<Figure size 864x720 with 1 Axes>"
            ]
          },
          "metadata": {
            "needs_background": "light"
          }
        }
      ]
    },
    {
      "cell_type": "markdown",
      "source": [
        "Note the \"Elbow point\" occurs arround k=4 or so. So optimal number of clusters can be 4 clusters"
      ],
      "metadata": {
        "id": "CVUqMA5SQxVM"
      }
    },
    {
      "cell_type": "code",
      "source": [
        "model=KMeans(n_clusters=4)\n",
        "label=model.fit_predict(childLabor[['5-17','15-17','5-11','12-14']])"
      ],
      "metadata": {
        "id": "PUMDWvXKQWpe"
      },
      "execution_count": null,
      "outputs": []
    },
    {
      "cell_type": "code",
      "source": [
        "df=childLabor[['5-17','15-17','5-11','12-14']]\n",
        "filtered_label0 = df[label == 0]\n",
        "filtered_label1 = df[label == 1]\n",
        "filtered_label2 = df[label == 2]\n",
        "filtered_label3 = df[label == 3]\n",
        "#filtered_label4 = df[label == 4]\n",
        "#plotting the results\n",
        "plt.scatter(filtered_label0['5-17'] , filtered_label0['15-17'],color='red')\n",
        "plt.scatter(filtered_label1['5-17'] , filtered_label1['15-17'],color='blue')\n",
        "plt.scatter(filtered_label2['5-17'] , filtered_label2['15-17'],color='orange')\n",
        "plt.scatter(filtered_label3['5-17'] , filtered_label3['15-17'],color='green')\n",
        "#plt.scatter(filtered_label4['5-17'] , filtered_label4['15-17'],color='green')\n",
        "plt.title(\"4 Different Groups identified\")\n",
        "plt.xlabel(\"Ages 5-17\")\n",
        "plt.ylabel(\"Ages 15-17\")\n",
        "plt.show()"
      ],
      "metadata": {
        "colab": {
          "base_uri": "https://localhost:8080/",
          "height": 295
        },
        "id": "9ALmsq44QWs5",
        "outputId": "8ecd1b96-e8c6-49bb-b857-5e7bc9205736"
      },
      "execution_count": null,
      "outputs": [
        {
          "output_type": "display_data",
          "data": {
            "image/png": "[encoded data removed]",
            "text/plain": [
              "<Figure size 432x288 with 1 Axes>"
            ]
          },
          "metadata": {
            "needs_background": "light"
          }
        }
      ]
    },
    {
      "cell_type": "markdown",
      "source": [
        "Implies the 4 different socio-economic groups of countries.\n",
        "\n",
        "Let us examine the Correlations between each of these columns:"
      ],
      "metadata": {
        "id": "UATG0o-jL3m8"
      }
    },
    {
      "cell_type": "code",
      "source": [
        "sns.heatmap(childLabor.corr(),annot=True,cmap='coolwarm')"
      ],
      "metadata": {
        "colab": {
          "base_uri": "https://localhost:8080/",
          "height": 286
        },
        "id": "QZfo8pEDkv32",
        "outputId": "c3450ba0-3f60-48c1-aa0b-0ae483231add"
      },
      "execution_count": null,
      "outputs": [
        {
          "output_type": "execute_result",
          "data": {
            "text/plain": [
              "<matplotlib.axes._subplots.AxesSubplot at 0x7f4ab8ea1810>"
            ]
          },
          "metadata": {},
          "execution_count": 74
        },
        {
          "output_type": "display_data",
          "data": {
            "image/png": "[encoded data removed]",
            "text/plain": [
              "<Figure size 432x288 with 2 Axes>"
            ]
          },
          "metadata": {
            "needs_background": "light"
          }
        }
      ]
    },
    {
      "cell_type": "markdown",
      "source": [
        "## Feature Selection as Association Mining using 1R on WEKA:\n",
        "Principle: Assume that we want to predict \"Class\" Reference Area.\n",
        "This is because using the last 4 attributes to predict reference area would be a good to check correlations.\n",
        "\n",
        "The results are as follows:\n",
        "\n",
        "Ranked attributes:\n",
        "\n",
        " 3.876    5-11\n",
        "\n",
        " 3.101    5-17\n",
        "\n",
        " 2.842    15-17\n",
        "\n",
        " 2.326    12-14\n",
        "\n",
        " 1.55     Time\n",
        "\n",
        " 0        Sex\n",
        "\n",
        "\n",
        "Justifications: \n",
        "\n",
        "The 4 different socio-economic factors identified above during clustering can be seen to effect the different age groups that engage in economic activity. Some possible explainations would be:\n",
        "\n",
        "- Ages 5-11 working is very young -> easy to determine country (perhaps due to poverty line). Forced to work\n",
        "- Ages 5-17 is overall amount of children working -> Not every country allows working children\n",
        "- Ages 15-17 is prominent in some countries such as USA where students in grade 10 and above are encouraged to find part time jobs to gain experience and earn pocket money\n",
        "- Ages 12-14 very uncommon. Children not forced to work, and not ready to work willingly\n",
        "- Time and Sex have repeated values for different countries, not aiding in prediction\n",
        "\n"
      ],
      "metadata": {
        "id": "_T_QXV20JjIn"
      }
    },
    {
      "cell_type": "code",
      "source": [
        ""
      ],
      "metadata": {
        "id": "5oNeZJqw8Fz5"
      },
      "execution_count": null,
      "outputs": []
    },
    {
      "cell_type": "markdown",
      "source": [
        "# Vaccine Dataset Exploration:"
      ],
      "metadata": {
        "id": "0s4C2G4FGbev"
      }
    },
    {
      "cell_type": "code",
      "source": [
        "vaccine = pd.read_csv(loc+\"vaccination-data.csv\")\n",
        "vaccine"
      ],
      "metadata": {
        "colab": {
          "base_uri": "https://localhost:8080/",
          "height": 842
        },
        "id": "I95C9ymrGB_K",
        "outputId": "a08c8559-d526-4bfe-ff99-15b6acdde35b"
      },
      "execution_count": null,
      "outputs": [
        {
          "output_type": "execute_result",
          "data": {
            "text/html": [
              "<div>\n",
              "<style scoped>\n",
              "    .dataframe tbody tr th:only-of-type {\n",
              "        vertical-align: middle;\n",
              "    }\n",
              "\n",
              "    .dataframe tbody tr th {\n",
              "        vertical-align: top;\n",
              "    }\n",
              "\n",
              "    .dataframe thead th {\n",
              "        text-align: right;\n",
              "    }\n",
              "</style>\n",
              "<table border=\"1\" class=\"dataframe\">\n",
              "  <thead>\n",
              "    <tr style=\"text-align: right;\">\n",
              "      <th></th>\n",
              "      <th>COUNTRY</th>\n",
              "      <th>ISO3</th>\n",
              "      <th>WHO_REGION</th>\n",
              "      <th>DATA_SOURCE</th>\n",
              "      <th>DATE_UPDATED</th>\n",
              "      <th>TOTAL_VACCINATIONS</th>\n",
              "      <th>PERSONS_VACCINATED_1PLUS_DOSE</th>\n",
              "      <th>TOTAL_VACCINATIONS_PER100</th>\n",
              "      <th>PERSONS_VACCINATED_1PLUS_DOSE_PER100</th>\n",
              "      <th>PERSONS_FULLY_VACCINATED</th>\n",
              "      <th>PERSONS_FULLY_VACCINATED_PER100</th>\n",
              "      <th>VACCINES_USED</th>\n",
              "      <th>FIRST_VACCINE_DATE</th>\n",
              "      <th>NUMBER_VACCINES_TYPES_USED</th>\n",
              "    </tr>\n",
              "  </thead>\n",
              "  <tbody>\n",
              "    <tr>\n",
              "      <th>0</th>\n",
              "      <td>Afghanistan</td>\n",
              "      <td>AFG</td>\n",
              "      <td>EMRO</td>\n",
              "      <td>REPORTING</td>\n",
              "      <td>2021-11-28</td>\n",
              "      <td>4396007</td>\n",
              "      <td>3896787.0</td>\n",
              "      <td>11.293</td>\n",
              "      <td>10.010</td>\n",
              "      <td>3564819.0</td>\n",
              "      <td>9.157</td>\n",
              "      <td>Beijing CNBG - BBIBP-CorV,Janssen - Ad26.COV 2...</td>\n",
              "      <td>2021-02-22</td>\n",
              "      <td>4.0</td>\n",
              "    </tr>\n",
              "    <tr>\n",
              "      <th>1</th>\n",
              "      <td>Albania</td>\n",
              "      <td>ALB</td>\n",
              "      <td>EURO</td>\n",
              "      <td>REPORTING</td>\n",
              "      <td>2021-11-28</td>\n",
              "      <td>2035737</td>\n",
              "      <td>1078240.0</td>\n",
              "      <td>70.700</td>\n",
              "      <td>37.887</td>\n",
              "      <td>957497.0</td>\n",
              "      <td>33.644</td>\n",
              "      <td>AstraZeneca - Vaxzevria,Gamaleya - Gam-Covid-V...</td>\n",
              "      <td>2021-01-13</td>\n",
              "      <td>5.0</td>\n",
              "    </tr>\n",
              "    <tr>\n",
              "      <th>2</th>\n",
              "      <td>Algeria</td>\n",
              "      <td>DZA</td>\n",
              "      <td>AFRO</td>\n",
              "      <td>REPORTING</td>\n",
              "      <td>2021-11-30</td>\n",
              "      <td>12293060</td>\n",
              "      <td>6875003.0</td>\n",
              "      <td>28.034</td>\n",
              "      <td>15.678</td>\n",
              "      <td>5391232.0</td>\n",
              "      <td>12.294</td>\n",
              "      <td>Beijing CNBG - BBIBP-CorV,Gamaleya - Gam-Covid...</td>\n",
              "      <td>2021-01-30</td>\n",
              "      <td>4.0</td>\n",
              "    </tr>\n",
              "    <tr>\n",
              "      <th>3</th>\n",
              "      <td>American Samoa</td>\n",
              "      <td>ASM</td>\n",
              "      <td>WPRO</td>\n",
              "      <td>REPORTING</td>\n",
              "      <td>2021-11-30</td>\n",
              "      <td>67444</td>\n",
              "      <td>35382.0</td>\n",
              "      <td>122.188</td>\n",
              "      <td>64.101</td>\n",
              "      <td>31251.0</td>\n",
              "      <td>56.617</td>\n",
              "      <td>Janssen - Ad26.COV 2-S,Moderna - Spikevax,Pfiz...</td>\n",
              "      <td>2020-12-21</td>\n",
              "      <td>3.0</td>\n",
              "    </tr>\n",
              "    <tr>\n",
              "      <th>4</th>\n",
              "      <td>Andorra</td>\n",
              "      <td>AND</td>\n",
              "      <td>EURO</td>\n",
              "      <td>REPORTING</td>\n",
              "      <td>2021-10-31</td>\n",
              "      <td>104534</td>\n",
              "      <td>54999.0</td>\n",
              "      <td>135.300</td>\n",
              "      <td>72.199</td>\n",
              "      <td>49535.0</td>\n",
              "      <td>65.026</td>\n",
              "      <td>AstraZeneca - Vaxzevria,Moderna - Spikevax,Pfi...</td>\n",
              "      <td>2021-01-20</td>\n",
              "      <td>3.0</td>\n",
              "    </tr>\n",
              "    <tr>\n",
              "      <th>...</th>\n",
              "      <td>...</td>\n",
              "      <td>...</td>\n",
              "      <td>...</td>\n",
              "      <td>...</td>\n",
              "      <td>...</td>\n",
              "      <td>...</td>\n",
              "      <td>...</td>\n",
              "      <td>...</td>\n",
              "      <td>...</td>\n",
              "      <td>...</td>\n",
              "      <td>...</td>\n",
              "      <td>...</td>\n",
              "      <td>...</td>\n",
              "      <td>...</td>\n",
              "    </tr>\n",
              "    <tr>\n",
              "      <th>223</th>\n",
              "      <td>Viet Nam</td>\n",
              "      <td>VNM</td>\n",
              "      <td>WPRO</td>\n",
              "      <td>REPORTING</td>\n",
              "      <td>2021-11-25</td>\n",
              "      <td>116328185</td>\n",
              "      <td>68934236.0</td>\n",
              "      <td>119.509</td>\n",
              "      <td>70.819</td>\n",
              "      <td>47393949.0</td>\n",
              "      <td>48.690</td>\n",
              "      <td>AstraZeneca - Vaxzevria,Beijing CNBG - BBIBP-C...</td>\n",
              "      <td>2021-03-08</td>\n",
              "      <td>6.0</td>\n",
              "    </tr>\n",
              "    <tr>\n",
              "      <th>224</th>\n",
              "      <td>Wallis and Futuna</td>\n",
              "      <td>WLF</td>\n",
              "      <td>WPRO</td>\n",
              "      <td>REPORTING</td>\n",
              "      <td>2021-11-26</td>\n",
              "      <td>11939</td>\n",
              "      <td>6016.0</td>\n",
              "      <td>106.162</td>\n",
              "      <td>53.495</td>\n",
              "      <td>5923.0</td>\n",
              "      <td>52.668</td>\n",
              "      <td>Moderna - Spikevax</td>\n",
              "      <td>2021-03-19</td>\n",
              "      <td>1.0</td>\n",
              "    </tr>\n",
              "    <tr>\n",
              "      <th>225</th>\n",
              "      <td>Yemen</td>\n",
              "      <td>YEM</td>\n",
              "      <td>EMRO</td>\n",
              "      <td>REPORTING</td>\n",
              "      <td>2021-12-02</td>\n",
              "      <td>786027</td>\n",
              "      <td>556652.0</td>\n",
              "      <td>2.635</td>\n",
              "      <td>1.866</td>\n",
              "      <td>366587.0</td>\n",
              "      <td>1.229</td>\n",
              "      <td>Janssen - Ad26.COV 2-S,SII - Covishield,Sinova...</td>\n",
              "      <td>2021-04-20</td>\n",
              "      <td>3.0</td>\n",
              "    </tr>\n",
              "    <tr>\n",
              "      <th>226</th>\n",
              "      <td>Zambia</td>\n",
              "      <td>ZMB</td>\n",
              "      <td>AFRO</td>\n",
              "      <td>REPORTING</td>\n",
              "      <td>2021-11-18</td>\n",
              "      <td>985443</td>\n",
              "      <td>806611.0</td>\n",
              "      <td>5.360</td>\n",
              "      <td>4.388</td>\n",
              "      <td>626900.0</td>\n",
              "      <td>3.410</td>\n",
              "      <td>Beijing CNBG - BBIBP-CorV,Janssen - Ad26.COV 2...</td>\n",
              "      <td>2021-04-14</td>\n",
              "      <td>3.0</td>\n",
              "    </tr>\n",
              "    <tr>\n",
              "      <th>227</th>\n",
              "      <td>Zimbabwe</td>\n",
              "      <td>ZWE</td>\n",
              "      <td>AFRO</td>\n",
              "      <td>REPORTING</td>\n",
              "      <td>2021-12-03</td>\n",
              "      <td>6681261</td>\n",
              "      <td>3829636.0</td>\n",
              "      <td>44.953</td>\n",
              "      <td>25.766</td>\n",
              "      <td>2851625.0</td>\n",
              "      <td>19.186</td>\n",
              "      <td>Beijing CNBG - BBIBP-CorV,Bharat - Covaxin,Gam...</td>\n",
              "      <td>2021-02-18</td>\n",
              "      <td>4.0</td>\n",
              "    </tr>\n",
              "  </tbody>\n",
              "</table>\n",
              "<p>228 rows × 14 columns</p>\n",
              "</div>"
            ],
            "text/plain": [
              "               COUNTRY ISO3  ... FIRST_VACCINE_DATE NUMBER_VACCINES_TYPES_USED\n",
              "0          Afghanistan  AFG  ...         2021-02-22                        4.0\n",
              "1              Albania  ALB  ...         2021-01-13                        5.0\n",
              "2              Algeria  DZA  ...         2021-01-30                        4.0\n",
              "3       American Samoa  ASM  ...         2020-12-21                        3.0\n",
              "4              Andorra  AND  ...         2021-01-20                        3.0\n",
              "..                 ...  ...  ...                ...                        ...\n",
              "223           Viet Nam  VNM  ...         2021-03-08                        6.0\n",
              "224  Wallis and Futuna  WLF  ...         2021-03-19                        1.0\n",
              "225              Yemen  YEM  ...         2021-04-20                        3.0\n",
              "226             Zambia  ZMB  ...         2021-04-14                        3.0\n",
              "227           Zimbabwe  ZWE  ...         2021-02-18                        4.0\n",
              "\n",
              "[228 rows x 14 columns]"
            ]
          },
          "metadata": {},
          "execution_count": 120
        }
      ]
    },
    {
      "cell_type": "code",
      "source": [
        "vaccine.describe()"
      ],
      "metadata": {
        "colab": {
          "base_uri": "https://localhost:8080/",
          "height": 320
        },
        "id": "vLmO4B-LkhqI",
        "outputId": "664e0a3f-3300-4047-99c9-a22997d1d33a"
      },
      "execution_count": null,
      "outputs": [
        {
          "output_type": "execute_result",
          "data": {
            "text/html": [
              "<div>\n",
              "<style scoped>\n",
              "    .dataframe tbody tr th:only-of-type {\n",
              "        vertical-align: middle;\n",
              "    }\n",
              "\n",
              "    .dataframe tbody tr th {\n",
              "        vertical-align: top;\n",
              "    }\n",
              "\n",
              "    .dataframe thead th {\n",
              "        text-align: right;\n",
              "    }\n",
              "</style>\n",
              "<table border=\"1\" class=\"dataframe\">\n",
              "  <thead>\n",
              "    <tr style=\"text-align: right;\">\n",
              "      <th></th>\n",
              "      <th>TOTAL_VACCINATIONS</th>\n",
              "      <th>PERSONS_VACCINATED_1PLUS_DOSE</th>\n",
              "      <th>TOTAL_VACCINATIONS_PER100</th>\n",
              "      <th>PERSONS_VACCINATED_1PLUS_DOSE_PER100</th>\n",
              "      <th>PERSONS_FULLY_VACCINATED</th>\n",
              "      <th>PERSONS_FULLY_VACCINATED_PER100</th>\n",
              "      <th>NUMBER_VACCINES_TYPES_USED</th>\n",
              "    </tr>\n",
              "  </thead>\n",
              "  <tbody>\n",
              "    <tr>\n",
              "      <th>count</th>\n",
              "      <td>2.280000e+02</td>\n",
              "      <td>2.230000e+02</td>\n",
              "      <td>228.000000</td>\n",
              "      <td>223.000000</td>\n",
              "      <td>2.240000e+02</td>\n",
              "      <td>224.000000</td>\n",
              "      <td>225.000000</td>\n",
              "    </tr>\n",
              "    <tr>\n",
              "      <th>mean</th>\n",
              "      <td>3.488048e+07</td>\n",
              "      <td>1.919433e+07</td>\n",
              "      <td>95.909083</td>\n",
              "      <td>49.358830</td>\n",
              "      <td>1.508233e+07</td>\n",
              "      <td>43.020920</td>\n",
              "      <td>3.808889</td>\n",
              "    </tr>\n",
              "    <tr>\n",
              "      <th>std</th>\n",
              "      <td>1.881662e+08</td>\n",
              "      <td>1.006739e+08</td>\n",
              "      <td>59.062577</td>\n",
              "      <td>27.107931</td>\n",
              "      <td>8.083069e+07</td>\n",
              "      <td>26.417789</td>\n",
              "      <td>1.828326</td>\n",
              "    </tr>\n",
              "    <tr>\n",
              "      <th>min</th>\n",
              "      <td>7.400000e+01</td>\n",
              "      <td>3.700000e+01</td>\n",
              "      <td>0.024000</td>\n",
              "      <td>0.015000</td>\n",
              "      <td>3.700000e+01</td>\n",
              "      <td>0.008000</td>\n",
              "      <td>1.000000</td>\n",
              "    </tr>\n",
              "    <tr>\n",
              "      <th>25%</th>\n",
              "      <td>2.710940e+05</td>\n",
              "      <td>1.526895e+05</td>\n",
              "      <td>45.828250</td>\n",
              "      <td>26.951500</td>\n",
              "      <td>1.201238e+05</td>\n",
              "      <td>21.236750</td>\n",
              "      <td>2.000000</td>\n",
              "    </tr>\n",
              "    <tr>\n",
              "      <th>50%</th>\n",
              "      <td>1.897216e+06</td>\n",
              "      <td>1.078920e+06</td>\n",
              "      <td>99.400000</td>\n",
              "      <td>53.495000</td>\n",
              "      <td>8.130390e+05</td>\n",
              "      <td>45.116000</td>\n",
              "      <td>4.000000</td>\n",
              "    </tr>\n",
              "    <tr>\n",
              "      <th>75%</th>\n",
              "      <td>1.180188e+07</td>\n",
              "      <td>6.655474e+06</td>\n",
              "      <td>143.418750</td>\n",
              "      <td>71.809500</td>\n",
              "      <td>5.224930e+06</td>\n",
              "      <td>65.759000</td>\n",
              "      <td>5.000000</td>\n",
              "    </tr>\n",
              "    <tr>\n",
              "      <th>max</th>\n",
              "      <td>2.483096e+09</td>\n",
              "      <td>1.240357e+09</td>\n",
              "      <td>296.070000</td>\n",
              "      <td>121.679000</td>\n",
              "      <td>1.089827e+09</td>\n",
              "      <td>118.201000</td>\n",
              "      <td>10.000000</td>\n",
              "    </tr>\n",
              "  </tbody>\n",
              "</table>\n",
              "</div>"
            ],
            "text/plain": [
              "       TOTAL_VACCINATIONS  ...  NUMBER_VACCINES_TYPES_USED\n",
              "count        2.280000e+02  ...                  225.000000\n",
              "mean         3.488048e+07  ...                    3.808889\n",
              "std          1.881662e+08  ...                    1.828326\n",
              "min          7.400000e+01  ...                    1.000000\n",
              "25%          2.710940e+05  ...                    2.000000\n",
              "50%          1.897216e+06  ...                    4.000000\n",
              "75%          1.180188e+07  ...                    5.000000\n",
              "max          2.483096e+09  ...                   10.000000\n",
              "\n",
              "[8 rows x 7 columns]"
            ]
          },
          "metadata": {},
          "execution_count": 121
        }
      ]
    },
    {
      "cell_type": "code",
      "source": [
        "vaccine.info()"
      ],
      "metadata": {
        "colab": {
          "base_uri": "https://localhost:8080/"
        },
        "id": "i3U_Av-I26Mu",
        "outputId": "9885d4f5-1f94-4b01-e1d6-e5a4b9f983aa"
      },
      "execution_count": null,
      "outputs": [
        {
          "output_type": "stream",
          "name": "stdout",
          "text": [
            "<class 'pandas.core.frame.DataFrame'>\n",
            "RangeIndex: 228 entries, 0 to 227\n",
            "Data columns (total 14 columns):\n",
            " #   Column                                Non-Null Count  Dtype  \n",
            "---  ------                                --------------  -----  \n",
            " 0   COUNTRY                               228 non-null    object \n",
            " 1   ISO3                                  228 non-null    object \n",
            " 2   WHO_REGION                            228 non-null    object \n",
            " 3   DATA_SOURCE                           228 non-null    object \n",
            " 4   DATE_UPDATED                          228 non-null    object \n",
            " 5   TOTAL_VACCINATIONS                    228 non-null    int64  \n",
            " 6   PERSONS_VACCINATED_1PLUS_DOSE         223 non-null    float64\n",
            " 7   TOTAL_VACCINATIONS_PER100             228 non-null    float64\n",
            " 8   PERSONS_VACCINATED_1PLUS_DOSE_PER100  223 non-null    float64\n",
            " 9   PERSONS_FULLY_VACCINATED              224 non-null    float64\n",
            " 10  PERSONS_FULLY_VACCINATED_PER100       224 non-null    float64\n",
            " 11  VACCINES_USED                         225 non-null    object \n",
            " 12  FIRST_VACCINE_DATE                    208 non-null    object \n",
            " 13  NUMBER_VACCINES_TYPES_USED            225 non-null    float64\n",
            "dtypes: float64(6), int64(1), object(7)\n",
            "memory usage: 25.1+ KB\n"
          ]
        }
      ]
    },
    {
      "cell_type": "code",
      "source": [
        "plt.figure(figsize=(12,8))\n",
        "sns.heatmap(vaccine.isna())"
      ],
      "metadata": {
        "colab": {
          "base_uri": "https://localhost:8080/",
          "height": 722
        },
        "id": "C9Gp7ymq26PT",
        "outputId": "04d83a2c-2452-4572-e458-67754d33fe94"
      },
      "execution_count": null,
      "outputs": [
        {
          "output_type": "execute_result",
          "data": {
            "text/plain": [
              "<matplotlib.axes._subplots.AxesSubplot at 0x7f4ab8244150>"
            ]
          },
          "metadata": {},
          "execution_count": 126
        },
        {
          "output_type": "display_data",
          "data": {
            "image/png": "[encoded data removed]",
            "text/plain": [
              "<Figure size 864x576 with 2 Axes>"
            ]
          },
          "metadata": {
            "needs_background": "light"
          }
        }
      ]
    },
    {
      "cell_type": "code",
      "source": [
        "vaccine.dropna(axis=0,inplace=True)\n",
        "plt.figure(figsize=(12,8))\n",
        "sns.heatmap(vaccine.isna())"
      ],
      "metadata": {
        "colab": {
          "base_uri": "https://localhost:8080/",
          "height": 722
        },
        "id": "b5xJICFF26Su",
        "outputId": "7ae2bb13-414a-47d4-a177-74f0029e79b4"
      },
      "execution_count": null,
      "outputs": [
        {
          "output_type": "execute_result",
          "data": {
            "text/plain": [
              "<matplotlib.axes._subplots.AxesSubplot at 0x7f4aca215b90>"
            ]
          },
          "metadata": {},
          "execution_count": 127
        },
        {
          "output_type": "display_data",
          "data": {
            "image/png": "[encoded data removed]",
            "text/plain": [
              "<Figure size 864x576 with 2 Axes>"
            ]
          },
          "metadata": {
            "needs_background": "light"
          }
        }
      ]
    },
    {
      "cell_type": "code",
      "source": [
        "sns.heatmap(vaccine.corr(),annot=True)"
      ],
      "metadata": {
        "colab": {
          "base_uri": "https://localhost:8080/",
          "height": 503
        },
        "id": "vXL-hxi026Ww",
        "outputId": "952adecd-5cef-4f49-e799-fff7731feb51"
      },
      "execution_count": null,
      "outputs": [
        {
          "output_type": "execute_result",
          "data": {
            "text/plain": [
              "<matplotlib.axes._subplots.AxesSubplot at 0x7f4ab8002090>"
            ]
          },
          "metadata": {},
          "execution_count": 129
        },
        {
          "output_type": "display_data",
          "data": {
            "image/png": "[encoded data removed]",
            "text/plain": [
              "<Figure size 432x288 with 2 Axes>"
            ]
          },
          "metadata": {
            "needs_background": "light"
          }
        }
      ]
    },
    {
      "cell_type": "code",
      "source": [
        "inertiaList=[]\n",
        "for k in range(2,20):\n",
        "    kmeans=KMeans(n_clusters=k)\n",
        "    kmeans.fit(vaccine[ ['TOTAL_VACCINATIONS','PERSONS_VACCINATED_1PLUS_DOSE','TOTAL_VACCINATIONS_PER100','PERSONS_VACCINATED_1PLUS_DOSE_PER100','PERSONS_FULLY_VACCINATED','PERSONS_FULLY_VACCINATED_PER100','NUMBER_VACCINES_TYPES_USED'] ])\n",
        "    inertiaList.append(kmeans.inertia_)"
      ],
      "metadata": {
        "id": "jDdxp0A726b8"
      },
      "execution_count": null,
      "outputs": []
    },
    {
      "cell_type": "code",
      "source": [
        "plt.figure(figsize=(12,10))\n",
        "plt.plot(range(2,20),inertiaList)\n",
        "plt.xlabel(\"K Value\")\n",
        "plt.ylabel(\"Inertia\")"
      ],
      "metadata": {
        "colab": {
          "base_uri": "https://localhost:8080/",
          "height": 634
        },
        "id": "TbuSTTVZ329_",
        "outputId": "480de1e0-7a9b-4261-f595-338d600f1862"
      },
      "execution_count": null,
      "outputs": [
        {
          "output_type": "execute_result",
          "data": {
            "text/plain": [
              "Text(0, 0.5, 'Inertia')"
            ]
          },
          "metadata": {},
          "execution_count": 133
        },
        {
          "output_type": "display_data",
          "data": {
            "image/png": "[encoded data removed]",
            "text/plain": [
              "<Figure size 864x720 with 1 Axes>"
            ]
          },
          "metadata": {
            "needs_background": "light"
          }
        }
      ]
    },
    {
      "cell_type": "markdown",
      "source": [
        "Elbow Point looks like 5"
      ],
      "metadata": {
        "id": "Kxr6dEvy4YT0"
      }
    },
    {
      "cell_type": "code",
      "source": [
        "model=KMeans(n_clusters=5)\n",
        "label=model.fit_predict(vaccine[ ['TOTAL_VACCINATIONS','PERSONS_VACCINATED_1PLUS_DOSE','TOTAL_VACCINATIONS_PER100','PERSONS_VACCINATED_1PLUS_DOSE_PER100','PERSONS_FULLY_VACCINATED','PERSONS_FULLY_VACCINATED_PER100','NUMBER_VACCINES_TYPES_USED'] ])"
      ],
      "metadata": {
        "id": "Uf8mLtYC33As"
      },
      "execution_count": null,
      "outputs": []
    },
    {
      "cell_type": "code",
      "source": [
        "df=vaccine[ ['TOTAL_VACCINATIONS','PERSONS_VACCINATED_1PLUS_DOSE','TOTAL_VACCINATIONS_PER100','PERSONS_VACCINATED_1PLUS_DOSE_PER100','PERSONS_FULLY_VACCINATED','PERSONS_FULLY_VACCINATED_PER100','NUMBER_VACCINES_TYPES_USED'] ]\n",
        "filtered_label0 = df[label == 0]\n",
        "filtered_label1 = df[label == 1]\n",
        "filtered_label2 = df[label == 2]\n",
        "filtered_label3 = df[label == 3]\n",
        "filtered_label4 = df[label == 4]\n",
        "x='TOTAL_VACCINATIONS'\n",
        "y='NUMBER_VACCINES_TYPES_USED'\n",
        "#plotting the results\n",
        "plt.scatter(filtered_label0[x] , filtered_label0[y],color='red')\n",
        "plt.scatter(filtered_label1[x] , filtered_label1[y],color='blue')\n",
        "plt.scatter(filtered_label2[x] , filtered_label2[y],color='orange')\n",
        "plt.scatter(filtered_label3[x] , filtered_label3[y],color='pink')\n",
        "plt.scatter(filtered_label4[x] , filtered_label4[y],color='green')\n",
        "plt.title(\"5 Different Groups identified\")\n",
        "plt.xlabel(x)\n",
        "plt.ylabel(y)\n",
        "plt.show()"
      ],
      "metadata": {
        "colab": {
          "base_uri": "https://localhost:8080/",
          "height": 296
        },
        "id": "7jjkax-y33Db",
        "outputId": "a193e306-de6c-4a86-e3e7-8ae1999a3c90"
      },
      "execution_count": null,
      "outputs": [
        {
          "output_type": "display_data",
          "data": {
            "image/png": "[encoded data removed]",
            "text/plain": [
              "<Figure size 432x288 with 1 Axes>"
            ]
          },
          "metadata": {
            "needs_background": "light"
          }
        }
      ]
    }
  ]
}